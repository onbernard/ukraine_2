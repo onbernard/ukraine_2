{
 "cells": [
  {
   "cell_type": "code",
   "execution_count": 1,
   "metadata": {},
   "outputs": [],
   "source": [
    "from collections import defaultdict\n",
    "from pathlib import Path\n",
    "import polars as pl\n",
    "from hierarchical import df_to_records, Record, path_to_root\n",
    "from images_sorting import sort_images\n",
    "from tests import test_sort_images\n",
    "import os"
   ]
  },
  {
   "cell_type": "code",
   "execution_count": 2,
   "metadata": {},
   "outputs": [],
   "source": [
    "path = Path(r\"/mnt/z/DATASETS/ukraine/russia/russia/\")\n",
    "df = pl.read_csv(r\"/mnt/z/DATASETS/ukraine/losses_russia.csv\")\n",
    "df_2 = df.groupby(\"model\").agg(pl.col(\"losses_total\").sum())"
   ]
  },
  {
   "cell_type": "code",
   "execution_count": 3,
   "metadata": {},
   "outputs": [],
   "source": [
    "img_index = defaultdict(list)\n",
    "for cat, sub_index in sort_images(df, path).items():\n",
    "    img_index |= sub_index\n",
    "rec = df_to_records(df_2, img_index)"
   ]
  },
  {
   "cell_type": "code",
   "execution_count": 5,
   "metadata": {},
   "outputs": [
    {
     "data": {
      "text/plain": [
       "9022"
      ]
     },
     "execution_count": 5,
     "metadata": {},
     "output_type": "execute_result"
    }
   ],
   "source": [
    "def count_rec(r: Record):\n",
    "    count = r.losses_total if r.losses_total else 0\n",
    "    for child in r.children:\n",
    "        count += count_rec(child)\n",
    "    return count\n",
    "count_rec(rec)"
   ]
  },
  {
   "cell_type": "code",
   "execution_count": 6,
   "metadata": {},
   "outputs": [],
   "source": [
    "def find_by_name(r: Record, n:str):\n",
    "    if r.name==n:\n",
    "        return r\n",
    "    for child in r.children:\n",
    "        if f:=find_by_name(child, n):\n",
    "            return f\n",
    "    return None"
   ]
  },
  {
   "cell_type": "code",
   "execution_count": 9,
   "metadata": {},
   "outputs": [],
   "source": [
    "with open(\"../frontend/static/losses_russia.json\", \"w\") as fp:\n",
    "    fp.write(rec.json())"
   ]
  }
 ],
 "metadata": {
  "kernelspec": {
   "display_name": "ukraine_2",
   "language": "python",
   "name": "python3"
  },
  "language_info": {
   "codemirror_mode": {
    "name": "ipython",
    "version": 3
   },
   "file_extension": ".py",
   "mimetype": "text/x-python",
   "name": "python",
   "nbconvert_exporter": "python",
   "pygments_lexer": "ipython3",
   "version": "3.9.16"
  },
  "orig_nbformat": 4,
  "vscode": {
   "interpreter": {
    "hash": "62184c21b44e05ecc57dd24a7813cf1366ac9c06e626aa24f7c41c23157f2523"
   }
  }
 },
 "nbformat": 4,
 "nbformat_minor": 2
}
