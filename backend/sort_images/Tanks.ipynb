{
 "cells": [
  {
   "cell_type": "code",
   "execution_count": 1,
   "metadata": {},
   "outputs": [
    {
     "name": "stdout",
     "output_type": "stream",
     "text": [
      "There are 1074 tanks images\n",
      "shape: (27, 2)\n",
      "┌────────────────┬──────────────┐\n",
      "│ model          ┆ losses_total │\n",
      "│ ---            ┆ ---          │\n",
      "│ str            ┆ i64          │\n",
      "╞════════════════╪══════════════╡\n",
      "│ Unknown T-72   ┆ 101          │\n",
      "│ T-62 Obr. 1967 ┆ 1            │\n",
      "│ T-80BVK        ┆ 1            │\n",
      "│ T-80UE-1       ┆ 8            │\n",
      "│ ...            ┆ ...          │\n",
      "│ T-80UK         ┆ 2            │\n",
      "│ T-80BV         ┆ 209          │\n",
      "│ Unknown T-80   ┆ 4            │\n",
      "│ T-62M          ┆ 50           │\n",
      "└────────────────┴──────────────┘\n"
     ]
    }
   ],
   "source": [
    "# russia/russia/Tanks\n",
    "import polars as pl\n",
    "from pathlib import Path\n",
    "root_path = Path(r\"/mnt/z/DATASETS/ukraine/russia/russia\")\n",
    "df = pl.read_csv(r\"/mnt/z/DATASETS/ukraine/losses_russia.csv\")\n",
    "\n",
    "image_paths = [p for p in (root_path/\"Tanks\").rglob(\"*\")]\n",
    "print(f\"There are {len(image_paths)} tanks images\")\n",
    "data = df.filter(df[\"equipment\"]==\"Tanks\").groupby(\"model\").agg(pl.col(\"losses_total\").sum())\n",
    "print(data)"
   ]
  },
  {
   "cell_type": "code",
   "execution_count": 13,
   "metadata": {},
   "outputs": [],
   "source": [
    "image_model_index = {\n",
    "    \"T-62M 1015 t62m dam\": \"T-62M\",\n",
    "    \"T-62 Obr  1967\": \"T-62 Obr. 1967\",\n",
    "    \"T-72B3 Obr  2016\": \"T-72B3 Obr. 2016\",\n",
    "    \"T-72B Obr  1989\": \"T-72B Obr. 1989\",\n",
    "\n",
    "    \"T-62MV\": \"T-62MV\",\n",
    "    \"T-62M\": \"T-62M\",\n",
    "    \"T-64A\": \"T-64A\",\n",
    "    \"T-64BV\": \"T-64BV\",\n",
    "    \"T-72AV\": \"T-72AV\",\n",
    "    \"T-72A\": \"T-72A\",\n",
    "    \"T-72B3\": \"T-72B3\",\n",
    "    \"T-72BA\": \"T-72BA\",\n",
    "    \"T-72B\": \"T-72B\",\n",
    "    \"T-80BVM\": \"T-80BVM\",\n",
    "    \"T-80BV\": \"T-80BV\",\n",
    "    \"T-80UE-1\": \"T-80UE-1\",\n",
    "    \"T-80UK\": \"T-80UK\",\n",
    "    \"T-80UM2\": \"T-80UM2\",\n",
    "    \"T-80U\": \"T-80U\",\n",
    "    \"T-90A\": \"T-90A\",\n",
    "    \"T-90M\": \"T-90M\",\n",
    "    \"T-90S\": \"T-90S\",\n",
    "    \"Unknown T-72\": \"Unknown T-72\",\n",
    "    \"Unknown T-80\": \"Unknown T-80\",\n",
    "    \"Unknown tank\": \"Unknown tank\",\n",
    "}\n",
    "names = [' '.join(p.stem.split(\"_\")[:-1]) for p in image_paths]\n",
    "for n in names:\n",
    "    if image_model_index[n] not in data[\"model\"]:\n",
    "        print(f'\"{n}\": \"{n}\",')\n",
    "# data[\"model\"].unique().to_list()"
   ]
  },
  {
   "cell_type": "code",
   "execution_count": 14,
   "metadata": {},
   "outputs": [
    {
     "name": "stdout",
     "output_type": "stream",
     "text": [
      "model not in images: T-80BVK\n",
      "model not in images: T-72B3 Obr. 2014\n",
      "model not in images: T-80BVM Obr. 2022\n"
     ]
    }
   ],
   "source": [
    "def image_path_to_model(p: Path):\n",
    "    return image_model_index[' '.join(p.stem.split(\"_\")[:-1])]\n",
    "\n",
    "for p in image_paths:\n",
    "    model = image_path_to_model(p)\n",
    "    if model not in data[\"model\"]:\n",
    "        print(f\"path not in models: {p}\")\n",
    "\n",
    "for model in data[\"model\"]:\n",
    "    if model not in image_model_index.values(): \n",
    "        print(f\"model not in images: {model}\")"
   ]
  }
 ],
 "metadata": {
  "kernelspec": {
   "display_name": "ukraine_2",
   "language": "python",
   "name": "python3"
  },
  "language_info": {
   "codemirror_mode": {
    "name": "ipython",
    "version": 3
   },
   "file_extension": ".py",
   "mimetype": "text/x-python",
   "name": "python",
   "nbconvert_exporter": "python",
   "pygments_lexer": "ipython3",
   "version": "3.9.16"
  },
  "orig_nbformat": 4
 },
 "nbformat": 4,
 "nbformat_minor": 2
}
