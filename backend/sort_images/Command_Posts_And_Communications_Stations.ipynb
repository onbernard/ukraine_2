{
 "cells": [
  {
   "cell_type": "code",
   "execution_count": 1,
   "metadata": {},
   "outputs": [],
   "source": [
    "# russia/russia/Command_Posts_And_Communications_Stations\n",
    "import polars as pl\n",
    "from pathlib import Path\n",
    "root_path = Path(r\"/mnt/z/DATASETS/ukraine/russia/russia\")\n",
    "df = pl.read_csv(r\"/mnt/z/DATASETS/ukraine/losses_russia.csv\")"
   ]
  },
  {
   "cell_type": "code",
   "execution_count": 2,
   "metadata": {},
   "outputs": [
    {
     "name": "stdout",
     "output_type": "stream",
     "text": [
      "There are 193 arty support images\n",
      "shape: (33, 2)\n",
      "┌─────────────────────────────────────┬──────────────┐\n",
      "│ model                               ┆ losses_total │\n",
      "│ ---                                 ┆ ---          │\n",
      "│ str                                 ┆ i64          │\n",
      "╞═════════════════════════════════════╪══════════════╡\n",
      "│ MP-2IM signals vehicle              ┆ 2            │\n",
      "│ MP-1IM signals vehicle              ┆ 10           │\n",
      "│ BMP-1KSh command and staff vehic... ┆ 9            │\n",
      "│ MPUS-K mobile command post          ┆ 1            │\n",
      "│ ...                                 ┆ ...          │\n",
      "│ R-149MA3 command and staff vehic... ┆ 37           │\n",
      "│ Unknown communications station b... ┆ 7            │\n",
      "│ R-439-MD2 SatCom Station            ┆ 2            │\n",
      "│ Auriga-1.2V portable satellite c... ┆ 2            │\n",
      "└─────────────────────────────────────┴──────────────┘\n"
     ]
    }
   ],
   "source": [
    "image_paths = [p for p in (root_path/\"Command_Posts_And_Communications_Stations\").rglob(\"*\")]\n",
    "print(f\"There are {len(image_paths)} arty support images\")\n",
    "data = df.filter(df[\"equipment\"]==\"Command Posts And Communications Stations\").groupby(\"model\").agg(pl.col(\"losses_total\").sum())\n",
    "print(data)"
   ]
  },
  {
   "cell_type": "code",
   "execution_count": 9,
   "metadata": {},
   "outputs": [],
   "source": [
    "image_model_index = {\n",
    "    \"9S470M1  or variant thereof  command post  for Buk-M1 2 \": \"9S470M1 (or variant thereof) command post (for Buk-M1/2)\",\n",
    "    \"9S932-2 intelligence  control and command vehicle  for Barnaul-T \": \"9S932-2 intelligence, control and command vehicle (for Barnaul-T)\",\n",
    "    \"Auriga-1 2V portable satellite communications station\": \"Auriga-1.2V portable satellite communications station\",\n",
    "    \"Barnaul-T 9 932-1 automated system for air defence units\": \"Barnaul-T 9С932-1 automated system for air defence units\",\n",
    "    \"MSh-5350 1 command vehicle\": \"MSh-5350.1 command vehicle\",\n",
    "    \"P-260-U signals vehicle  for Redut-2US signal and communications system \": \"P-260-U signals vehicle (for Redut-2US signal and communications system)\",\n",
    "    \"R-166-0 5 signals vehicle\": \"R-166-0.5 signals vehicle\",\n",
    "    \"R-381T2M 1 5-3000 MHz radio monitoring station from a modernised R-381TM Taran-M automatic signals intelligence complex\": \"R-381T2M 1.5-3000 MHz radio monitoring station from a modernised R-381TM Taran-M automatic signals intelligence complex\",\n",
    "    \"R-142NSA command and signals vehicle  1  destroyed   2  destroyed \": \"R-142NSA command and signals vehicle\",\n",
    "\n",
    "    \"R-149MA3 command and staff vehicle\": \"R-149MA3 command and staff vehicle\",\n",
    "    \"APE-5 command post\": \"APE-5 command post\",\n",
    "    \"BMD-1KSh-A command vehicle\": \"BMD-1KSh-A command vehicle\",\n",
    "    \"BMP-1KSh command and staff vehicle\": \"BMP-1KSh command and staff vehicle\",\n",
    "    \"BTR-60PU-12command vehicle\": \"BTR-60PU-12command vehicle\",\n",
    "    \"MP-1IM signals vehicle\": \"MP-1IM signals vehicle\",\n",
    "    \"MP-2IM signals vehicle\": \"MP-2IM signals vehicle\",\n",
    "    \"MPUS-K mobile command post\": \"MPUS-K mobile command post\",\n",
    "    \"Orlan-10 UAV control station\": \"Orlan-10 UAV control station\",\n",
    "    \"P-230T command vehicle\": \"P-230T command vehicle\",\n",
    "    \"P-240 digital communications vehicle\": \"P-240 digital communications vehicle\",\n",
    "    \"P-260 Redut-2US communication system\": \"P-260 Redut-2US communication system\",\n",
    "    \"R-145BM1 command vehicle\": \"R-145BM1 command vehicle\",\n",
    "    \"R-145BM command vehicle\": \"R-145BM command vehicle\",\n",
    "    \"R-149AKSh-1 command and signals vehicle\": \"R-149AKSh-1 command and signals vehicle\",\n",
    "    \"R-149MA1 command and staff vehicle\": \"R-149MA1 command and staff vehicle\",\n",
    "    \"R-419L1 communications station\": \"R-419L1 communications station\",\n",
    "    \"R-431AM antenna module for the Redut-2US communications system\": \"R-431AM antenna module for the Redut-2US communications system\",\n",
    "    \"R-439-MD2 SatCom Station\": \"R-439-MD2 SatCom Station\",\n",
    "    \"R-441 SatCom station\": \"R-441 SatCom station\",\n",
    "    \"Unknown communications station based on the KamAZ 6x6\": \"Unknown communications station based on the KamAZ 6x6\",\n",
    "}\n",
    "names = [' '.join(p.stem.split(\"_\")[:-1]) for p in image_paths]\n",
    "for n in names:\n",
    "    if image_model_index[n] not in data[\"model\"]:\n",
    "        print(f'\"{n}\": \"{n}\",')\n",
    "# data[\"model\"].unique().to_list()"
   ]
  },
  {
   "cell_type": "code",
   "execution_count": 10,
   "metadata": {},
   "outputs": [],
   "source": [
    "def image_path_to_model(p: Path):\n",
    "    return image_model_index[' '.join(p.stem.split(\"_\")[:-1])]"
   ]
  },
  {
   "cell_type": "code",
   "execution_count": 11,
   "metadata": {},
   "outputs": [
    {
     "name": "stdout",
     "output_type": "stream",
     "text": [
      "model not in images: Command vehicle for Podlet-K1 low-altitude S-band surveillance radar\n",
      "model not in images: Unknown communications station\n",
      "model not in images: R-145BMA command vehicle\n"
     ]
    }
   ],
   "source": [
    "for p in image_paths:\n",
    "    model = image_path_to_model(p)\n",
    "    assert model in data[\"model\"] , f\"path not in models: {p}\"\n",
    "\n",
    "for model in data[\"model\"]:\n",
    "    if model not in image_model_index.values(): \n",
    "        print(f\"model not in images: {model}\")"
   ]
  }
 ],
 "metadata": {
  "kernelspec": {
   "display_name": "ukraine_2",
   "language": "python",
   "name": "python3"
  },
  "language_info": {
   "codemirror_mode": {
    "name": "ipython",
    "version": 3
   },
   "file_extension": ".py",
   "mimetype": "text/x-python",
   "name": "python",
   "nbconvert_exporter": "python",
   "pygments_lexer": "ipython3",
   "version": "3.9.16"
  },
  "orig_nbformat": 4
 },
 "nbformat": 4,
 "nbformat_minor": 2
}
