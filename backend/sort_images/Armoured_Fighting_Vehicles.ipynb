{
 "cells": [
  {
   "cell_type": "code",
   "execution_count": 1,
   "metadata": {},
   "outputs": [],
   "source": [
    "import polars as pl\n",
    "from pathlib import Path\n",
    "root_path = Path(r\"/mnt/z/DATASETS/ukraine/russia/russia\")\n",
    "df = pl.read_csv(r\"/mnt/z/DATASETS/ukraine/losses_russia.csv\")"
   ]
  },
  {
   "cell_type": "code",
   "execution_count": 2,
   "metadata": {},
   "outputs": [
    {
     "name": "stdout",
     "output_type": "stream",
     "text": [
      "There are 463 afv images\n",
      "shape: (17, 2)\n",
      "┌─────────────────────────────────────┬──────────────┐\n",
      "│ model                               ┆ losses_total │\n",
      "│ ---                                 ┆ ---          │\n",
      "│ str                                 ┆ i64          │\n",
      "╞═════════════════════════════════════╪══════════════╡\n",
      "│ GAZ-3344-20 'Aleut' articulated ... ┆ 2            │\n",
      "│ BRM-1 and BRM-1K reconnaissance ... ┆ 25           │\n",
      "│ Vityaz DT-30 articulated tracked... ┆ 3            │\n",
      "│ MT-LBu                              ┆ 16           │\n",
      "│ ...                                 ┆ ...          │\n",
      "│ MT-LBVM and MT-LBVMK                ┆ 156          │\n",
      "│ Unknown BTR-D/BMD-2                 ┆ 9            │\n",
      "│ BTR-80-based ZS-88 PsyOps vehicl... ┆ 1            │\n",
      "│ MT-LB with ZU-23 AA gun             ┆ 22           │\n",
      "└─────────────────────────────────────┴──────────────┘\n"
     ]
    }
   ],
   "source": [
    "image_paths = [p for p in (root_path/\"Armoured_Fighting_Vehicles\").rglob(\"*\")]\n",
    "print(f\"There are {len(image_paths)} afv images\")\n",
    "afv_data = df.filter(df[\"equipment\"]==\"Armoured Fighting Vehicles\").groupby(\"model\").agg(pl.col(\"losses_total\").sum())\n",
    "print(afv_data)"
   ]
  },
  {
   "cell_type": "code",
   "execution_count": 12,
   "metadata": {},
   "outputs": [],
   "source": [
    "image_model_index = {\n",
    "    \"GAZ-3344-20  Aleut  articulated tracked carrier\": \"GAZ-3344-20 'Aleut' articulated tracked carrier\",\n",
    "    \"Unknown BTR-D BMD-2\": \"Unknown BTR-D/BMD-2\",\n",
    "\n",
    "    \"BRDM-2-based ZS-82 PsyOps vehicle\": \"BRDM-2-based ZS-82 PsyOps vehicle\",\n",
    "    \"BRDM-2RKhb chemical reconnaissance vehicle\": \"BRDM-2RKhb chemical reconnaissance vehicle\",\n",
    "    \"BRDM-2\": \"BRDM-2\",\n",
    "    \"BRM-1 and BRM-1K reconnaissance vehicle\": \"BRM-1 and BRM-1K reconnaissance vehicle\",\n",
    "    \"BTR-80-based ZS-88 PsyOps vehicle\": \"BTR-80-based ZS-88 PsyOps vehicle\",\n",
    "    \"MT-LBu\": \"MT-LBu\",\n",
    "    \"MT-LBVM and MT-LBVMK\": \"MT-LBVM and MT-LBVMK\",\n",
    "    \"MT-LB with ZU-23 AA gun\": \"MT-LB with ZU-23 AA gun\",\n",
    "    \"MT-LB\": \"MT-LB\",\n",
    "    \"Unknown AFV\": \"Unknown AFV\",\n",
    "    \"Vityaz DT-10PM articulated tracked carrier\": \"Vityaz DT-10PM articulated tracked carrier\",\n",
    "    \"Vityaz DT-30 articulated tracked carrier\": \"Vityaz DT-30 articulated tracked carrier\",\n",
    "}"
   ]
  },
  {
   "cell_type": "code",
   "execution_count": 13,
   "metadata": {},
   "outputs": [],
   "source": [
    "def image_path_to_model(p: Path):\n",
    "    return image_model_index[' '.join(p.stem.split(\"_\")[:-1])]"
   ]
  },
  {
   "cell_type": "code",
   "execution_count": 14,
   "metadata": {},
   "outputs": [
    {
     "name": "stdout",
     "output_type": "stream",
     "text": [
      "model not in images: BMM-80 ambulance\n",
      "model not in images: 2S1 with ZU-23 AA gun\n",
      "model not in images: BRM-1K Obr. 2021\n"
     ]
    }
   ],
   "source": [
    "for p in image_paths:\n",
    "    model = image_path_to_model(p)\n",
    "    assert model in afv_data[\"model\"] , f\"path not in models: {p}\"\n",
    "\n",
    "for model in afv_data[\"model\"]:\n",
    "    if model not in image_model_index.values(): \n",
    "        print(f\"model not in images: {model}\")"
   ]
  }
 ],
 "metadata": {
  "kernelspec": {
   "display_name": "ukraine_2",
   "language": "python",
   "name": "python3"
  },
  "language_info": {
   "codemirror_mode": {
    "name": "ipython",
    "version": 3
   },
   "file_extension": ".py",
   "mimetype": "text/x-python",
   "name": "python",
   "nbconvert_exporter": "python",
   "pygments_lexer": "ipython3",
   "version": "3.9.16"
  },
  "orig_nbformat": 4
 },
 "nbformat": 4,
 "nbformat_minor": 2
}
