{
 "cells": [
  {
   "cell_type": "code",
   "execution_count": 3,
   "metadata": {},
   "outputs": [
    {
     "name": "stdout",
     "output_type": "stream",
     "text": [
      "There are 79 ta images\n",
      "shape: (8, 2)\n",
      "┌─────────────────────────────────────┬──────────────┐\n",
      "│ model                               ┆ losses_total │\n",
      "│ ---                                 ┆ ---          │\n",
      "│ str                                 ┆ i64          │\n",
      "╞═════════════════════════════════════╪══════════════╡\n",
      "│ 152mm 2A65 Msta-B howitzer          ┆ 75           │\n",
      "│ Unknown towed artillery             ┆ 4            │\n",
      "│ 122mm D-30 howitzer                 ┆ 39           │\n",
      "│ 152mm 2A36 Giatsint-B               ┆ 13           │\n",
      "│ 152mm D-20 gun-howitzer             ┆ 8            │\n",
      "│ 2B9 Vasilek 82mm automatic gun m... ┆ 5            │\n",
      "│ 120mm 2B16 Nona-K howitzer          ┆ 11           │\n",
      "│ 100mm MT-12 anti-tank gun           ┆ 9            │\n",
      "└─────────────────────────────────────┴──────────────┘\n"
     ]
    }
   ],
   "source": [
    "# russia/russia/Towed_Artillery\n",
    "import polars as pl\n",
    "from pathlib import Path\n",
    "root_path = Path(r\"/mnt/z/DATASETS/ukraine/russia/russia\")\n",
    "df = pl.read_csv(r\"/mnt/z/DATASETS/ukraine/losses_russia.csv\")\n",
    "\n",
    "image_paths = [p for p in (root_path/\"Towed_Artillery\").rglob(\"*\")]\n",
    "print(f\"There are {len(image_paths)} ta images\")\n",
    "data = df.filter(df[\"equipment\"]==\"Towed Artillery\").groupby(\"model\").agg(pl.col(\"losses_total\").sum())\n",
    "print(data)"
   ]
  },
  {
   "cell_type": "code",
   "execution_count": 5,
   "metadata": {},
   "outputs": [],
   "source": [
    "image_model_index = {\n",
    "    \"100mm MT-12 anti-tank gun\": \"100mm MT-12 anti-tank gun\",\n",
    "    \"120mm 2B16 Nona-K howitzer\": \"120mm 2B16 Nona-K howitzer\",\n",
    "    \"122mm D-30 howitzer\": \"122mm D-30 howitzer\",\n",
    "    \"152mm 2A36 Giatsint-B\": \"152mm 2A36 Giatsint-B\",\n",
    "    \"152mm 2A65 Msta-B howitzer\": \"152mm 2A65 Msta-B howitzer\",\n",
    "    \"152mm D-20 gun-howitzer\": \"152mm D-20 gun-howitzer\",\n",
    "    \"Unknown towed artillery\": \"Unknown towed artillery\",\n",
    "}\n",
    "names = [' '.join(p.stem.split(\"_\")[:-1]) for p in image_paths]\n",
    "for n in names:\n",
    "    if image_model_index[n] not in data[\"model\"]:\n",
    "        print(f'\"{n}\": \"{n}\",')\n",
    "# data[\"model\"].unique().to_list()"
   ]
  },
  {
   "cell_type": "code",
   "execution_count": 6,
   "metadata": {},
   "outputs": [
    {
     "name": "stdout",
     "output_type": "stream",
     "text": [
      "model not in images: 2B9 Vasilek 82mm automatic gun mortar\n"
     ]
    }
   ],
   "source": [
    "def image_path_to_model(p: Path):\n",
    "    return image_model_index[' '.join(p.stem.split(\"_\")[:-1])]\n",
    "\n",
    "for p in image_paths:\n",
    "    model = image_path_to_model(p)\n",
    "    if model not in data[\"model\"]:\n",
    "        print(f\"path not in models: {p}\")\n",
    "\n",
    "for model in data[\"model\"]:\n",
    "    if model not in image_model_index.values(): \n",
    "        print(f\"model not in images: {model}\")"
   ]
  }
 ],
 "metadata": {
  "kernelspec": {
   "display_name": "ukraine_2",
   "language": "python",
   "name": "python3"
  },
  "language_info": {
   "codemirror_mode": {
    "name": "ipython",
    "version": 3
   },
   "file_extension": ".py",
   "mimetype": "text/x-python",
   "name": "python",
   "nbconvert_exporter": "python",
   "pygments_lexer": "ipython3",
   "version": "3.9.16"
  },
  "orig_nbformat": 4
 },
 "nbformat": 4,
 "nbformat_minor": 2
}
