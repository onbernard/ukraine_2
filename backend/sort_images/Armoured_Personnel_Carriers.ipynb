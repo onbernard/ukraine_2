{
 "cells": [
  {
   "cell_type": "code",
   "execution_count": 2,
   "metadata": {},
   "outputs": [],
   "source": [
    "import polars as pl\n",
    "from pathlib import Path\n",
    "root_path = Path(r\"/mnt/z/DATASETS/ukraine/russia/russia\")\n",
    "df = pl.read_csv(r\"/mnt/z/DATASETS/ukraine/losses_russia.csv\")"
   ]
  },
  {
   "cell_type": "code",
   "execution_count": 3,
   "metadata": {},
   "outputs": [
    {
     "name": "stdout",
     "output_type": "stream",
     "text": [
      "There are 219 apc images\n",
      "shape: (9, 2)\n",
      "┌────────────────────────┬──────────────┐\n",
      "│ model                  ┆ losses_total │\n",
      "│ ---                    ┆ ---          │\n",
      "│ str                    ┆ i64          │\n",
      "╞════════════════════════╪══════════════╡\n",
      "│ BTR-80                 ┆ 153          │\n",
      "│ BTR-60PB               ┆ 1            │\n",
      "│ Remdiesel Z-STS Akhmat ┆ 4            │\n",
      "│ Ural-4320VV            ┆ 3            │\n",
      "│ ...                    ┆ ...          │\n",
      "│ BTR-70M                ┆ 1            │\n",
      "│ Unknown BTR-80/BTR-82A ┆ 45           │\n",
      "│ BTR-70                 ┆ 4            │\n",
      "│ BTR-MDM 'Rakushka'     ┆ 14           │\n",
      "└────────────────────────┴──────────────┘\n"
     ]
    }
   ],
   "source": [
    "image_paths = [p for p in (root_path/\"Armoured_Personnel_Carriers\").rglob(\"*\")]\n",
    "print(f\"There are {len(image_paths)} apc images\")\n",
    "apc_data = df.filter(df[\"equipment\"]==\"Armoured Personnel Carriers\").groupby(\"model\").agg(pl.col(\"losses_total\").sum())\n",
    "print(apc_data)"
   ]
  },
  {
   "cell_type": "code",
   "execution_count": 19,
   "metadata": {},
   "outputs": [],
   "source": [
    "image_model_index = {\n",
    "    \"BTR-MDM  Rakushka \": \"BTR-MDM 'Rakushka'\",\n",
    "    \"Unknown BTR-80 BTR-82A\": \"Unknown BTR-80/BTR-82A\",\n",
    "\n",
    "    \"BTR-60PB\": \"BTR-60PB\",\n",
    "    \"BTR-70M\": \"BTR-70M\",\n",
    "    \"BTR-70\": \"BTR-70\",\n",
    "    \"BTR-80\": \"BTR-80\",\n",
    "    \"BTR-D\": \"BTR-D\",\n",
    "    \"Remdiesel Z-STS Akhmat\": \"Remdiesel Z-STS Akhmat\",\n",
    "    \"Ural-4320VV\": \"Ural-4320VV\",\n",
    "}"
   ]
  },
  {
   "cell_type": "code",
   "execution_count": 22,
   "metadata": {},
   "outputs": [],
   "source": [
    "def image_path_to_model(p: Path):\n",
    "    return image_model_index[' '.join(p.stem.split(\"_\")[:-1])]"
   ]
  },
  {
   "cell_type": "code",
   "execution_count": 23,
   "metadata": {},
   "outputs": [],
   "source": [
    "for p in image_paths:\n",
    "    model = image_path_to_model(p)\n",
    "    assert model in apc_data[\"model\"] , f\"path not in models: {p}\"\n",
    "\n",
    "for model in apc_data[\"model\"]:\n",
    "    if model not in image_model_index.values(): \n",
    "        print(f\"model not in images: {model}\")"
   ]
  }
 ],
 "metadata": {
  "kernelspec": {
   "display_name": "ukraine_2",
   "language": "python",
   "name": "python3"
  },
  "language_info": {
   "codemirror_mode": {
    "name": "ipython",
    "version": 3
   },
   "file_extension": ".py",
   "mimetype": "text/x-python",
   "name": "python",
   "nbconvert_exporter": "python",
   "pygments_lexer": "ipython3",
   "version": "3.9.16"
  },
  "orig_nbformat": 4
 },
 "nbformat": 4,
 "nbformat_minor": 2
}
