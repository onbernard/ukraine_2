{
 "cells": [
  {
   "cell_type": "code",
   "execution_count": 1,
   "metadata": {},
   "outputs": [],
   "source": [
    "import polars as pl\n",
    "from pathlib import Path\n",
    "root_path = Path(r\"/mnt/z/DATASETS/ukraine/russia/russia\")\n",
    "df = pl.read_csv(r\"/mnt/z/DATASETS/ukraine/losses_russia.csv\")"
   ]
  },
  {
   "cell_type": "code",
   "execution_count": 2,
   "metadata": {},
   "outputs": [
    {
     "name": "stdout",
     "output_type": "stream",
     "text": [
      "There are 70 arty support images\n",
      "shape: (12, 2)\n",
      "┌─────────────────────────────────────┬──────────────┐\n",
      "│ model                               ┆ losses_total │\n",
      "│ ---                                 ┆ ---          │\n",
      "│ str                                 ┆ i64          │\n",
      "╞═════════════════════════════════════╪══════════════╡\n",
      "│ 1V110 BM-21 Grad battery command... ┆ 1            │\n",
      "│ 9T452 transporter-loader (for BM... ┆ 37           │\n",
      "│ 1V13(M) battery fire control cen... ┆ 16           │\n",
      "│ 1V119 artillery fire direction v... ┆ 11           │\n",
      "│ ...                                 ┆ ...          │\n",
      "│ 1V14 battery command and forward... ┆ 13           │\n",
      "│ 1V1003 command and observation v... ┆ 1            │\n",
      "│ 2F77M transloading vehicle for 2... ┆ 1            │\n",
      "│ PRP-4A Argus artillery reconnais... ┆ 1            │\n",
      "└─────────────────────────────────────┴──────────────┘\n"
     ]
    }
   ],
   "source": [
    "image_paths = [p for p in (root_path/\"Artillery_Support_Vehicles_And_Equipment\").rglob(\"*\")]\n",
    "print(f\"There are {len(image_paths)} arty support images\")\n",
    "data = df.filter(df[\"equipment\"]==\"Artillery Support Vehicles And Equipment\").groupby(\"model\").agg(pl.col(\"losses_total\").sum())\n",
    "print(data)"
   ]
  },
  {
   "cell_type": "code",
   "execution_count": 15,
   "metadata": {},
   "outputs": [],
   "source": [
    "image_model_index = {\n",
    "    \"1V13 M  battery fire control center\": \"1V13(M) battery fire control center\",\n",
    "    \"1V18  Klyon-1  artillery command and forward observer vehicle\": \"1V18 'Klyon-1' artillery command and forward observer vehicle\",\n",
    "    \"9T452 transporter-loader  for BM-27  Uragan  MRL \": \"9T452 transporter-loader (for BM-27 'Uragan' MRL)\",\n",
    "    \"TZM-T reloader vehicle  for TOS-1A \": \"TZM-T reloader vehicle (for TOS-1A)\",\n",
    "\n",
    "    \"1V110 BM-21 Grad battery command vehicle\": \"1V110 BM-21 Grad battery command vehicle\",\n",
    "    \"1V119 artillery fire direction vehicle\": \"1V119 artillery fire direction vehicle\",\n",
    "    \"1V14 battery command and forward observer vehicle\": \"1V14 battery command and forward observer vehicle\",\n",
    "    \"1V15M fire control and observation vehicle\": \"1V15M fire control and observation vehicle\",\n",
    "    \"1V16 battalion fire direction vehicle\": \"1V16 battalion fire direction vehicle\",\n",
    "    \"2F77M transloading vehicle for 2K22M Tunguska-M\": \"2F77M transloading vehicle for 2K22M Tunguska-M\",\n",
    "    \"PRP-4A Argus artillery reconnaissance vehicle\": \"PRP-4A Argus artillery reconnaissance vehicle\",\n",
    "}\n",
    "names = [' '.join(p.stem.split(\"_\")[:-1]) for p in image_paths]\n",
    "for n in names:\n",
    "    if image_model_index[n] not in data[\"model\"]:\n",
    "        print(f'\"{n}\": \"{n}\",')"
   ]
  },
  {
   "cell_type": "code",
   "execution_count": 17,
   "metadata": {},
   "outputs": [],
   "source": [
    "def image_path_to_model(p: Path):\n",
    "    return image_model_index[' '.join(p.stem.split(\"_\")[:-1])]"
   ]
  },
  {
   "cell_type": "code",
   "execution_count": 18,
   "metadata": {},
   "outputs": [
    {
     "name": "stdout",
     "output_type": "stream",
     "text": [
      "model not in images: 1V1003 command and observation vehicle (for 1V198 artillery fire control system)\n"
     ]
    }
   ],
   "source": [
    "for p in image_paths:\n",
    "    model = image_path_to_model(p)\n",
    "    assert model in data[\"model\"] , f\"path not in models: {p}\"\n",
    "\n",
    "for model in data[\"model\"]:\n",
    "    if model not in image_model_index.values(): \n",
    "        print(f\"model not in images: {model}\")"
   ]
  }
 ],
 "metadata": {
  "kernelspec": {
   "display_name": "ukraine_2",
   "language": "python",
   "name": "python3"
  },
  "language_info": {
   "codemirror_mode": {
    "name": "ipython",
    "version": 3
   },
   "file_extension": ".py",
   "mimetype": "text/x-python",
   "name": "python",
   "nbconvert_exporter": "python",
   "pygments_lexer": "ipython3",
   "version": "3.9.16"
  },
  "orig_nbformat": 4
 },
 "nbformat": 4,
 "nbformat_minor": 2
}
