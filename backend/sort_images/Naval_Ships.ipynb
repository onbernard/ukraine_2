{
 "cells": [
  {
   "cell_type": "code",
   "execution_count": 1,
   "metadata": {},
   "outputs": [
    {
     "name": "stdout",
     "output_type": "stream",
     "text": [
      "There are 8 naval ships images\n",
      "shape: (8, 2)\n",
      "┌─────────────────────────────────────┬──────────────┐\n",
      "│ model                               ┆ losses_total │\n",
      "│ ---                                 ┆ ---          │\n",
      "│ str                                 ┆ i64          │\n",
      "╞═════════════════════════════════════╪══════════════╡\n",
      "│ Project 22870 SB-739 Vasily Bekh... ┆ 1            │\n",
      "│ Project 02510 BK-16E high-speed ... ┆ 1            │\n",
      "│ Project 1171 Tapir-class landing... ┆ 1            │\n",
      "│ Project 266M Natya-class mineswe... ┆ 1            │\n",
      "│ Project 775 Ropucha-class landin... ┆ 1            │\n",
      "│ Project 03160 Raptor-class patro... ┆ 5            │\n",
      "│ Project 11770 Serna-class landin... ┆ 1            │\n",
      "│ Project 1164 Slava-class guided ... ┆ 1            │\n",
      "└─────────────────────────────────────┴──────────────┘\n"
     ]
    }
   ],
   "source": [
    "# russia/russia/Naval_Ships\n",
    "import polars as pl\n",
    "from pathlib import Path\n",
    "root_path = Path(r\"/mnt/z/DATASETS/ukraine/russia/russia\")\n",
    "df = pl.read_csv(r\"/mnt/z/DATASETS/ukraine/losses_russia.csv\")\n",
    "\n",
    "image_paths = [p for p in (root_path/\"Naval_Ships\").rglob(\"*\")]\n",
    "print(f\"There are {len(image_paths)} naval ships images\")\n",
    "data = df.filter(df[\"equipment\"]==\"Naval Ships\").groupby(\"model\").agg(pl.col(\"losses_total\").sum())\n",
    "print(data)"
   ]
  },
  {
   "cell_type": "code",
   "execution_count": 4,
   "metadata": {},
   "outputs": [],
   "source": [
    "image_model_index = {\n",
    "    \"Project 1164 Slava-class guided missile cruiser  Moskva \": \"Project 1164 Slava-class guided missile cruiser 'Moskva'\",\n",
    "\n",
    "    \"Project 02510 BK-16E high-speed assault boat\": \"Project 02510 BK-16E high-speed assault boat\",\n",
    "    \"Project 03160 Raptor-class patrol boat\": \"Project 03160 Raptor-class patrol boat\",\n",
    "    \"Project 11770 Serna-class landing craft\": \"Project 11770 Serna-class landing craft\",\n",
    "    \"Project 775 Ropucha-class landing ship\": \"Project 775 Ropucha-class landing ship\",\n",
    "}\n",
    "names = [' '.join(p.stem.split(\"_\")[:-1]) for p in image_paths]\n",
    "for n in names:\n",
    "    if image_model_index[n] not in data[\"model\"]:\n",
    "        print(f'\"{n}\": \"{n}\",')\n",
    "# data[\"model\"].unique().to_list()"
   ]
  },
  {
   "cell_type": "code",
   "execution_count": 5,
   "metadata": {},
   "outputs": [
    {
     "name": "stdout",
     "output_type": "stream",
     "text": [
      "model not in images: Project 22870 SB-739 Vasily Bekh rescue tug\n",
      "model not in images: Project 1171 Tapir-class landing ship 'Saratov (BDK-65)'\n",
      "model not in images: Project 266M Natya-class minesweeper\n"
     ]
    }
   ],
   "source": [
    "def image_path_to_model(p: Path):\n",
    "    return image_model_index[' '.join(p.stem.split(\"_\")[:-1])]\n",
    "\n",
    "for p in image_paths:\n",
    "    model = image_path_to_model(p)\n",
    "    if model not in data[\"model\"]:\n",
    "        print(f\"path not in models: {p}\")\n",
    "\n",
    "for model in data[\"model\"]:\n",
    "    if model not in image_model_index.values(): \n",
    "        print(f\"model not in images: {model}\")"
   ]
  }
 ],
 "metadata": {
  "kernelspec": {
   "display_name": "ukraine_2",
   "language": "python",
   "name": "python3"
  },
  "language_info": {
   "codemirror_mode": {
    "name": "ipython",
    "version": 3
   },
   "file_extension": ".py",
   "mimetype": "text/x-python",
   "name": "python",
   "nbconvert_exporter": "python",
   "pygments_lexer": "ipython3",
   "version": "3.9.16"
  },
  "orig_nbformat": 4
 },
 "nbformat": 4,
 "nbformat_minor": 2
}
