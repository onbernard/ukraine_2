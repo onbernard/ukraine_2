{
 "cells": [
  {
   "cell_type": "code",
   "execution_count": 1,
   "metadata": {},
   "outputs": [
    {
     "name": "stdout",
     "output_type": "stream",
     "text": [
      "There are 39 heli images\n",
      "shape: (8, 2)\n",
      "┌─────────────────────────────────────┬──────────────┐\n",
      "│ model                               ┆ losses_total │\n",
      "│ ---                                 ┆ ---          │\n",
      "│ str                                 ┆ i64          │\n",
      "╞═════════════════════════════════════╪══════════════╡\n",
      "│ Ka-52 'Alligator' attack helicop... ┆ 31           │\n",
      "│ Unknown helicopter                  ┆ 6            │\n",
      "│ Mi-24P attack helicopter            ┆ 3            │\n",
      "│ Mi-24P/35M attack helicopter        ┆ 1            │\n",
      "│ Mi-24V/P attack helicopter          ┆ 1            │\n",
      "│ Mi-28 attack helicopter             ┆ 11           │\n",
      "│ Mi-8 transport helicopter           ┆ 16           │\n",
      "│ Mi-35M attack helicopter            ┆ 6            │\n",
      "└─────────────────────────────────────┴──────────────┘\n"
     ]
    }
   ],
   "source": [
    "# russia/russia/Helicopters\n",
    "import polars as pl\n",
    "from pathlib import Path\n",
    "root_path = Path(r\"/mnt/z/DATASETS/ukraine/russia/russia\")\n",
    "df = pl.read_csv(r\"/mnt/z/DATASETS/ukraine/losses_russia.csv\")\n",
    "\n",
    "image_paths = [p for p in (root_path/\"Helicopters\").rglob(\"*\")]\n",
    "print(f\"There are {len(image_paths)} heli images\")\n",
    "data = df.filter(df[\"equipment\"]==\"Helicopters\").groupby(\"model\").agg(pl.col(\"losses_total\").sum())\n",
    "print(data)"
   ]
  },
  {
   "cell_type": "code",
   "execution_count": 10,
   "metadata": {},
   "outputs": [
    {
     "data": {
      "text/plain": [
       "['Unknown helicopter',\n",
       " \"Ka-52 'Alligator' attack helicopter\",\n",
       " 'Mi-24V/P attack helicopter',\n",
       " 'Mi-8 transport helicopter',\n",
       " 'Mi-35M attack helicopter',\n",
       " 'Mi-24P/35M attack helicopter',\n",
       " 'Mi-24P attack helicopter',\n",
       " 'Mi-28 attack helicopter']"
      ]
     },
     "execution_count": 10,
     "metadata": {},
     "output_type": "execute_result"
    }
   ],
   "source": [
    "image_model_index = {\n",
    "    \"Ka-52  Alligator  attack helicopter\": \"Ka-52 'Alligator' attack helicopter\",\n",
    "    \"Mi-24P 35M attack helicopter\": \"Mi-24P/35M attack helicopter\",\n",
    "    \"Mi-24V P attack helicopter\": \"Mi-24V/P attack helicopter\",\n",
    "\n",
    "    \"Mi-24P attack helicopter\": \"Mi-24P attack helicopter\",\n",
    "    \"Mi-28 attack helicopter\": \"Mi-28 attack helicopter\",\n",
    "    \"Mi-35M attack helicopter\": \"Mi-35M attack helicopter\",\n",
    "    \"Mi-8 transport helicopter\": \"Mi-8 transport helicopter\",\n",
    "    \"Unknown helicopter\": \"Unknown helicopter\",\n",
    "}\n",
    "names = [' '.join(p.stem.split(\"_\")[:-1]) for p in image_paths]\n",
    "for n in names:\n",
    "    if image_model_index[n] not in data[\"model\"]:\n",
    "        print(f'\"{n}\": \"{n}\",')\n",
    "# data[\"model\"].unique().to_list()"
   ]
  },
  {
   "cell_type": "code",
   "execution_count": 11,
   "metadata": {},
   "outputs": [],
   "source": [
    "def image_path_to_model(p: Path):\n",
    "    return image_model_index[' '.join(p.stem.split(\"_\")[:-1])]\n",
    "\n",
    "for p in image_paths:\n",
    "    model = image_path_to_model(p)\n",
    "    if model not in data[\"model\"]:\n",
    "        print(f\"path not in models: {p}\")\n",
    "\n",
    "for model in data[\"model\"]:\n",
    "    if model not in image_model_index.values(): \n",
    "        print(f\"model not in images: {model}\")"
   ]
  }
 ],
 "metadata": {
  "kernelspec": {
   "display_name": "ukraine_2",
   "language": "python",
   "name": "python3"
  },
  "language_info": {
   "codemirror_mode": {
    "name": "ipython",
    "version": 3
   },
   "file_extension": ".py",
   "mimetype": "text/x-python",
   "name": "python",
   "nbconvert_exporter": "python",
   "pygments_lexer": "ipython3",
   "version": "3.9.16"
  },
  "orig_nbformat": 4
 },
 "nbformat": 4,
 "nbformat_minor": 2
}
