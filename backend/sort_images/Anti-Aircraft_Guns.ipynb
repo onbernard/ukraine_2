{
 "cells": [
  {
   "cell_type": "code",
   "execution_count": 1,
   "metadata": {},
   "outputs": [],
   "source": [
    "import polars as pl\n",
    "from pathlib import Path"
   ]
  },
  {
   "cell_type": "code",
   "execution_count": 2,
   "metadata": {},
   "outputs": [],
   "source": [
    "root_path = Path(r\"/mnt/z/DATASETS/ukraine/russia/russia\")\n",
    "df = pl.read_csv(r\"/mnt/z/DATASETS/ukraine/losses_russia.csv\")"
   ]
  },
  {
   "cell_type": "code",
   "execution_count": 3,
   "metadata": {},
   "outputs": [
    {
     "name": "stdout",
     "output_type": "stream",
     "text": [
      "There are 9 anti-aircraft gun images\n",
      "shape: (1, 2)\n",
      "┌──────────────┬──────────────┐\n",
      "│ model        ┆ losses_total │\n",
      "│ ---          ┆ ---          │\n",
      "│ str          ┆ i64          │\n",
      "╞══════════════╪══════════════╡\n",
      "│ 23mm ZU-23-2 ┆ 16           │\n",
      "└──────────────┴──────────────┘\n"
     ]
    }
   ],
   "source": [
    "image_paths = [p for p in (root_path/\"Anti-Aircraft_Guns\").rglob(\"*\")]\n",
    "print(f\"There are {len(image_paths)} anti-aircraft gun images\")\n",
    "aag_data = df.filter(df[\"equipment\"]==\"Anti-Aircraft Guns\").groupby(\"model\").agg(pl.col(\"losses_total\").sum())\n",
    "print(aag_data)"
   ]
  },
  {
   "cell_type": "code",
   "execution_count": 9,
   "metadata": {},
   "outputs": [],
   "source": [
    "image_model_index = {\n",
    "    \"23mm ZU-23-2\": \"23mm ZU-23-2\"\n",
    "}"
   ]
  },
  {
   "cell_type": "code",
   "execution_count": 10,
   "metadata": {},
   "outputs": [],
   "source": [
    "def image_path_to_model(p: Path):\n",
    "    return image_model_index[' '.join(p.stem.split(\"_\")[:-1])]"
   ]
  },
  {
   "cell_type": "code",
   "execution_count": 14,
   "metadata": {},
   "outputs": [],
   "source": [
    "for p in image_paths:\n",
    "    model = image_path_to_model(p)\n",
    "    assert model in aag_data[\"model\"] , f\"path not in models: {p}\"\n",
    "\n",
    "for model in aag_data[\"model\"]:\n",
    "    if model not in image_model_index.values(): \n",
    "        print(f\"model not in images: {model}\")"
   ]
  }
 ],
 "metadata": {
  "kernelspec": {
   "display_name": "ukraine_2",
   "language": "python",
   "name": "python3"
  },
  "language_info": {
   "codemirror_mode": {
    "name": "ipython",
    "version": 3
   },
   "file_extension": ".py",
   "mimetype": "text/x-python",
   "name": "python",
   "nbconvert_exporter": "python",
   "pygments_lexer": "ipython3",
   "version": "3.9.16"
  },
  "orig_nbformat": 4
 },
 "nbformat": 4,
 "nbformat_minor": 2
}
