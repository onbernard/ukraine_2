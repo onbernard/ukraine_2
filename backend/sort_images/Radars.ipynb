{
 "cells": [
  {
   "cell_type": "code",
   "execution_count": 1,
   "metadata": {},
   "outputs": [
    {
     "name": "stdout",
     "output_type": "stream",
     "text": [
      "There are 13 radar images\n",
      "shape: (13, 2)\n",
      "┌─────────────────────────────────────┬──────────────┐\n",
      "│ model                               ┆ losses_total │\n",
      "│ ---                                 ┆ ---          │\n",
      "│ str                                 ┆ i64          │\n",
      "╞═════════════════════════════════════╪══════════════╡\n",
      "│ PPRU-1(M) '9S80(-1)' 'Sborka' (f... ┆ 2            │\n",
      "│ P-18T                               ┆ 1            │\n",
      "│ 9S36 (for Buk-M2)                   ┆ 2            │\n",
      "│ 9S18 Kupol TUBE ARM Search and A... ┆ 1            │\n",
      "│ ...                                 ┆ ...          │\n",
      "│ 48Ya6-K1 Podlet-K1 low-altitude ... ┆ 2            │\n",
      "│ P-18-2 2D VHF surveillance radar    ┆ 1            │\n",
      "│ Unknown radar                       ┆ 2            │\n",
      "│ 9S18М1(-3) (for Buk-M3)             ┆ 1            │\n",
      "└─────────────────────────────────────┴──────────────┘\n"
     ]
    }
   ],
   "source": [
    "# russia/russia/Radars\n",
    "import polars as pl\n",
    "from pathlib import Path\n",
    "root_path = Path(r\"/mnt/z/DATASETS/ukraine/russia/russia\")\n",
    "df = pl.read_csv(r\"/mnt/z/DATASETS/ukraine/losses_russia.csv\")\n",
    "\n",
    "image_paths = [p for p in (root_path/\"Radars\").rglob(\"*\")]\n",
    "print(f\"There are {len(image_paths)} radar images\")\n",
    "data = df.filter(df[\"equipment\"]==\"Radars\").groupby(\"model\").agg(pl.col(\"losses_total\").sum())\n",
    "print(data)"
   ]
  },
  {
   "cell_type": "code",
   "execution_count": 8,
   "metadata": {},
   "outputs": [],
   "source": [
    "image_model_index = {\n",
    "    \"1L261  for 1L260 Zoopark-1M counter-battery radar complex \": \"1L261 (for 1L260 Zoopark-1M counter-battery radar complex)\",\n",
    "    \"9S18 1 -2   for Buk-M2 \": \"9S18М1(-2) (for Buk-M2)\",\n",
    "    \"9S18 1 -3   for Buk-M3 \": \"9S18М1(-3) (for Buk-M3)\",\n",
    "    \"9S36  for Buk-M2 \": \"9S36 (for Buk-M2)\",\n",
    "    \"PPRU-1 M   9S80 -1    Sborka   for 9K35 Strela-10 \": \"PPRU-1(M) '9S80(-1)' 'Sborka' (for 9K35 Strela-10)\",\n",
    "\n",
    "    \"Fara ground surveillance radar\": \"Fara ground surveillance radar\",\n",
    "    \"P-18T\": \"P-18T\",\n",
    "    \"SNAR-10M1 battlefield surveillance radar\": \"SNAR-10M1 battlefield surveillance radar\",\n",
    "    \"Unknown radar\": \"Unknown radar\",\n",
    "}\n",
    "names = [' '.join(p.stem.split(\"_\")[:-1]) for p in image_paths]\n",
    "for n in names:\n",
    "    if image_model_index[n] not in data[\"model\"]:\n",
    "        print(f'\"{n}\": \"{n}\",')\n",
    "# data[\"model\"].unique().to_list()"
   ]
  },
  {
   "cell_type": "code",
   "execution_count": 9,
   "metadata": {},
   "outputs": [
    {
     "name": "stdout",
     "output_type": "stream",
     "text": [
      "model not in images: 9S18 Kupol TUBE ARM Search and Acquisition Radar for Buk-M2\n",
      "model not in images: 1L271 portable mortar locating reconnaissance radar\n",
      "model not in images: 48Ya6-K1 Podlet-K1 low-altitude S-band surveillance radar\n",
      "model not in images: P-18-2 2D VHF surveillance radar\n"
     ]
    }
   ],
   "source": [
    "def image_path_to_model(p: Path):\n",
    "    return image_model_index[' '.join(p.stem.split(\"_\")[:-1])]\n",
    "\n",
    "for p in image_paths:\n",
    "    model = image_path_to_model(p)\n",
    "    if model not in data[\"model\"]:\n",
    "        print(f\"path not in models: {p}\")\n",
    "\n",
    "for model in data[\"model\"]:\n",
    "    if model not in image_model_index.values(): \n",
    "        print(f\"model not in images: {model}\")"
   ]
  }
 ],
 "metadata": {
  "kernelspec": {
   "display_name": "ukraine_2",
   "language": "python",
   "name": "python3"
  },
  "language_info": {
   "codemirror_mode": {
    "name": "ipython",
    "version": 3
   },
   "file_extension": ".py",
   "mimetype": "text/x-python",
   "name": "python",
   "nbconvert_exporter": "python",
   "pygments_lexer": "ipython3",
   "version": "3.9.16"
  },
  "orig_nbformat": 4
 },
 "nbformat": 4,
 "nbformat_minor": 2
}
