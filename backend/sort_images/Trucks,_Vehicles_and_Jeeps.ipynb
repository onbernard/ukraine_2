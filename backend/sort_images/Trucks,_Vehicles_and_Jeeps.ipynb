{
 "cells": [
  {
   "cell_type": "code",
   "execution_count": 1,
   "metadata": {},
   "outputs": [
    {
     "name": "stdout",
     "output_type": "stream",
     "text": [
      "There are 1561 trucks images\n",
      "shape: (44, 2)\n",
      "┌───────────────────────┬──────────────┐\n",
      "│ model                 ┆ losses_total │\n",
      "│ ---                   ┆ ---          │\n",
      "│ str                   ┆ i64          │\n",
      "╞═══════════════════════╪══════════════╡\n",
      "│ Ural-4320             ┆ 590          │\n",
      "│ KrAZ-255B             ┆ 2            │\n",
      "│ KamAZ-395800 'Gorets' ┆ 1            │\n",
      "│ UAZ-469 jeep          ┆ 28           │\n",
      "│ ...                   ┆ ...          │\n",
      "│ GAZ-3308              ┆ 6            │\n",
      "│ Ural-5323             ┆ 4            │\n",
      "│ UAZ Patriot jeep      ┆ 3            │\n",
      "│ UAZ-452 van           ┆ 36           │\n",
      "└───────────────────────┴──────────────┘\n"
     ]
    }
   ],
   "source": [
    "# russia/russia/Trucks,_Vehicles_and_Jeeps\n",
    "# russia/russia/Towed_Artillery\n",
    "import polars as pl\n",
    "from pathlib import Path\n",
    "root_path = Path(r\"/mnt/z/DATASETS/ukraine/russia/russia\")\n",
    "df = pl.read_csv(r\"/mnt/z/DATASETS/ukraine/losses_russia.csv\")\n",
    "\n",
    "image_paths = [p for p in (root_path/\"Trucks,_Vehicles_and_Jeeps\").rglob(\"*\")]\n",
    "print(f\"There are {len(image_paths)} trucks images\")\n",
    "data = df.filter(df[\"equipment\"]==\"Trucks, Vehicles and Jeeps\").groupby(\"model\").agg(pl.col(\"losses_total\").sum())\n",
    "print(data)"
   ]
  },
  {
   "cell_type": "code",
   "execution_count": 38,
   "metadata": {},
   "outputs": [],
   "source": [
    "image_model_index = {\n",
    "    \"9T217 transloader  for 9K33 Osa \": \"9T217 transloader (for 9K33 Osa)\",\n",
    "    \"9T244 transloader  for 9A330 1 Tor \": \"9T244 transloader (for 9A330/1 Tor)\",\n",
    "    \"KamAZ-395800  Gorets \": \"KamAZ-395800 'Gorets'\",\n",
    "    \"KamAZ 6x6 1115\": \"KamAZ 6x6\",\n",
    "    \"KamAZ 8x8\": \"KamAZ 8x8\",\n",
    "    \"UAZ-394511  Esaul \": \"UAZ-515195 'Esaul'\",\n",
    "    \"UAZ-515195  Esaul \": \"UAZ-515195 'Esaul'\",\n",
    "\n",
    "    \"Ural-4320 1099 Ural-4320\": \"Ural-4320\",\n",
    "    \"Ural-4320 1100 Ural-4320\": \"Ural-4320\",\n",
    "    \"Ural-4320 1104 Ural-4320\": \"Ural-4320\",\n",
    "    \"Ural-4320 1105 Ural-4320\": \"Ural-4320\",\n",
    "    \"Ural-4320 1107 Ural-4320\": \"Ural-4320\",\n",
    "    \"Ural-4320 1122 Ural-4320\": \"Ural-4320\",\n",
    "    \"Ural-4320 1113 Ural-4320\": \"Ural-4320\",\n",
    "    \"Ural-4320 1106 Ural-4320\": \"Ural-4320\",\n",
    "    \"Ural-4320 1114 Ural-4320\": \"Ural-4320\",\n",
    "    \"Ural-4320 1117 Ural-4320\": \"Ural-4320\",\n",
    "    \"Ural-4320 1101\": \"Ural-4320\",\n",
    "    \"Ural-4320 1102\": \"Ural-4320\",\n",
    "    \"Ural-4320 1103\": \"Ural-4320\",\n",
    "    \"Ural-4320 1108\": \"Ural-4320\",\n",
    "    \"Ural-4320 1110\": \"Ural-4320\",\n",
    "    \"Ural-4320 1111\": \"Ural-4320\",\n",
    "    \"Ural-4320 1112\": \"Ural-4320\",\n",
    "    \"Ural-4320 1116\": \"Ural-4320\",\n",
    "    \"Ural-4320 1119\": \"Ural-4320\",\n",
    "    \"Ural-4320 1120\": \"Ural-4320\",\n",
    "    \"Ural-4320 1121\": \"Ural-4320\",\n",
    "    \"Ural-4320 1123\": \"Ural-4320\",\n",
    "    \" Unknown  truck\": \"(Unknown) truck\",\n",
    "    \" Unknown  vehicle\": \"(Unknown) vehicle\",\n",
    "\n",
    "    \"Civilian KamAZ 6x6 converted for military use\": \"Civilian KamAZ 6x6 converted for military use\",\n",
    "    \"GAZ-3308\": \"GAZ-3308\",\n",
    "    \"GAZ-66\": \"GAZ-66\",\n",
    "    \"GAZ Sobol\": \"GAZ Sobol\",\n",
    "    \"KamAZ-5350 with armoured cabin\": \"KamAZ-5350 with armoured cabin\",\n",
    "    \"KamAZ-6350 8x8 artillery tractor\": \"KamAZ-6350 8x8 artillery tractor\",\n",
    "    \"KamAZ 4x4\": \"KamAZ 4x4\",\n",
    "    \"KamAZ 6x6\": \"KamAZ 6x6\",\n",
    "    \"KamAZ 6x6 tanker\": \"KamAZ 6x6 tanker\",\n",
    "    \"KamAZ 6x6\": \"KamAZ 6x6\",\n",
    "    \"KamAZ Avtozaks\": \"KamAZ Avtozaks\",\n",
    "    \"KamAZ with MM-501 armoured cabin\": \"KamAZ with MM-501 armoured cabin\",\n",
    "    \"KrAZ-255B\": \"KrAZ-255B\",\n",
    "    \"KrAZ-255B tanker\": \"KrAZ-255B tanker\",\n",
    "    \"KrAZ-260 tanker\": \"KrAZ-260 tanker\",\n",
    "    \"LuAZ-969\": \"LuAZ-969\",\n",
    "    \"UAZ-23632-148-64 armed pickup truck\": \"UAZ-23632-148-64 armed pickup truck\",\n",
    "    \"UAZ-23632 pickup truck\": \"UAZ-23632 pickup truck\",\n",
    "    \"UAZ-452 van\": \"UAZ-452 van\",\n",
    "    \"UAZ-469 jeep\": \"UAZ-469 jeep\",\n",
    "    \"UAZ Patriot jeep\": \"UAZ Patriot jeep\",\n",
    "    \"Unknown fuel tanker\": \"Unknown fuel tanker\",\n",
    "    \"Ural-375D\": \"Ural-375D\",\n",
    "    \"Ural-375D tanker\": \"Ural-375D tanker\",\n",
    "    \"Ural-43206\": \"Ural-43206\",\n",
    "    \"Ural-4320\": \"Ural-4320\",\n",
    "    \"Ural-4320 tanker\": \"Ural-4320 tanker\",\n",
    "    \"Ural-4320\": \"Ural-4320\",\n",
    "    \"Ural-5323\": \"Ural-5323\",\n",
    "    \"Ural-542301 tank transporter\": \"Ural-542301 tank transporter\",\n",
    "    \"Ural-63704-0010 Tornado-U\": \"Ural-63704-0010 Tornado-U\",\n",
    "    \"Ural Avtozaks\": \"Ural Avtozaks\",\n",
    "    \"Ural Federal\": \"Ural Federal\",\n",
    "    \"ZiL-131\": \"ZiL-131\",\n",
    "    \"ZiL-131 tanker\": \"ZiL-131 tanker\",\n",
    "}\n",
    "names = [' '.join(p.stem.split(\"_\")[:-1]) for p in image_paths]\n",
    "for n in names:\n",
    "    if image_model_index[n] not in data[\"model\"]:\n",
    "        print(f'\"{n}\": \"{n}\",')\n",
    "# data[\"model\"].unique().to_list()"
   ]
  },
  {
   "cell_type": "code",
   "execution_count": 39,
   "metadata": {},
   "outputs": [
    {
     "name": "stdout",
     "output_type": "stream",
     "text": [
      "model not in images: GAZ-51\n",
      "model not in images: UAZ-394511 ‘Esaul’\n",
      "model not in images: MAZ TZ-500 tanker\n",
      "model not in images: UAZ-31514\n"
     ]
    }
   ],
   "source": [
    "def image_path_to_model(p: Path):\n",
    "    return image_model_index[' '.join(p.stem.split(\"_\")[:-1])]\n",
    "\n",
    "for p in image_paths:\n",
    "    model = image_path_to_model(p)\n",
    "    if model not in data[\"model\"]:\n",
    "        print(f\"path not in models: {p}\")\n",
    "\n",
    "for model in data[\"model\"]:\n",
    "    if model not in image_model_index.values(): \n",
    "        print(f\"model not in images: {model}\")"
   ]
  }
 ],
 "metadata": {
  "kernelspec": {
   "display_name": "ukraine_2",
   "language": "python",
   "name": "python3"
  },
  "language_info": {
   "codemirror_mode": {
    "name": "ipython",
    "version": 3
   },
   "file_extension": ".py",
   "mimetype": "text/x-python",
   "name": "python",
   "nbconvert_exporter": "python",
   "pygments_lexer": "ipython3",
   "version": "3.9.16"
  },
  "orig_nbformat": 4
 },
 "nbformat": 4,
 "nbformat_minor": 2
}
