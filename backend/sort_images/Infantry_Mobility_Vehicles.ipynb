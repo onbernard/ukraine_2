{
 "cells": [
  {
   "cell_type": "code",
   "execution_count": 1,
   "metadata": {},
   "outputs": [
    {
     "name": "stdout",
     "output_type": "stream",
     "text": [
      "There are 137 imv images\n",
      "shape: (5, 2)\n",
      "┌────────────────┬──────────────┐\n",
      "│ model          ┆ losses_total │\n",
      "│ ---            ┆ ---          │\n",
      "│ str            ┆ i64          │\n",
      "╞════════════════╪══════════════╡\n",
      "│ AMN-590951     ┆ 3            │\n",
      "│ Iveco LMV Rys  ┆ 31           │\n",
      "│ GAZ Tigr       ┆ 14           │\n",
      "│ GAZ Tigr-M     ┆ 123          │\n",
      "│ BPM-97 Vystrel ┆ 3            │\n",
      "└────────────────┴──────────────┘\n"
     ]
    }
   ],
   "source": [
    "# russia/russia/Infantry_Mobility_Vehicles\n",
    "import polars as pl\n",
    "from pathlib import Path\n",
    "root_path = Path(r\"/mnt/z/DATASETS/ukraine/russia/russia\")\n",
    "df = pl.read_csv(r\"/mnt/z/DATASETS/ukraine/losses_russia.csv\")\n",
    "\n",
    "image_paths = [p for p in (root_path/\"Infantry_Mobility_Vehicles\").rglob(\"*\")]\n",
    "print(f\"There are {len(image_paths)} imv images\")\n",
    "data = df.filter(df[\"equipment\"]==\"Infantry Mobility Vehicles\").groupby(\"model\").agg(pl.col(\"losses_total\").sum())\n",
    "print(data)"
   ]
  },
  {
   "cell_type": "code",
   "execution_count": 3,
   "metadata": {},
   "outputs": [],
   "source": [
    "image_model_index = {\n",
    "    \"AMN-590951\": \"AMN-590951\",\n",
    "    \"BPM-97 Vystrel\": \"BPM-97 Vystrel\",\n",
    "    \"GAZ Tigr-M\": \"GAZ Tigr-M\",\n",
    "    \"GAZ Tigr\": \"GAZ Tigr\",\n",
    "    \"Iveco LMV Rys\": \"Iveco LMV Rys\",\n",
    "}\n",
    "names = [' '.join(p.stem.split(\"_\")[:-1]) for p in image_paths]\n",
    "for n in names:\n",
    "    if image_model_index[n] not in data[\"model\"]:\n",
    "        print(f'\"{n}\": \"{n}\",')\n",
    "# data[\"model\"].unique().to_list()"
   ]
  },
  {
   "cell_type": "code",
   "execution_count": 4,
   "metadata": {},
   "outputs": [],
   "source": [
    "def image_path_to_model(p: Path):\n",
    "    return image_model_index[' '.join(p.stem.split(\"_\")[:-1])]\n",
    "\n",
    "for p in image_paths:\n",
    "    model = image_path_to_model(p)\n",
    "    if model not in data[\"model\"]:\n",
    "        print(f\"path not in models: {p}\")\n",
    "\n",
    "for model in data[\"model\"]:\n",
    "    if model not in image_model_index.values(): \n",
    "        print(f\"model not in images: {model}\")"
   ]
  }
 ],
 "metadata": {
  "kernelspec": {
   "display_name": "ukraine_2",
   "language": "python",
   "name": "python3"
  },
  "language_info": {
   "codemirror_mode": {
    "name": "ipython",
    "version": 3
   },
   "file_extension": ".py",
   "mimetype": "text/x-python",
   "name": "python",
   "nbconvert_exporter": "python",
   "pygments_lexer": "ipython3",
   "version": "3.9.16"
  },
  "orig_nbformat": 4
 },
 "nbformat": 4,
 "nbformat_minor": 2
}
