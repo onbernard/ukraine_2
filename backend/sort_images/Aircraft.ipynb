{
 "cells": [
  {
   "cell_type": "code",
   "execution_count": 1,
   "metadata": {},
   "outputs": [],
   "source": [
    "import polars as pl\n",
    "from pathlib import Path"
   ]
  },
  {
   "cell_type": "code",
   "execution_count": 2,
   "metadata": {},
   "outputs": [],
   "source": [
    "root_path = Path(r\"/mnt/z/DATASETS/ukraine/russia/russia\")\n",
    "df = pl.read_csv(r\"/mnt/z/DATASETS/ukraine/losses_russia.csv\")"
   ]
  },
  {
   "cell_type": "code",
   "execution_count": 3,
   "metadata": {},
   "outputs": [
    {
     "name": "stdout",
     "output_type": "stream",
     "text": [
      "There are 40 aircraft images\n",
      "shape: (12, 2)\n",
      "┌─────────────────────────────────────┬──────────────┐\n",
      "│ model                               ┆ losses_total │\n",
      "│ ---                                 ┆ ---          │\n",
      "│ str                                 ┆ i64          │\n",
      "╞═════════════════════════════════════╪══════════════╡\n",
      "│ An-26 transport aircraft            ┆ 1            │\n",
      "│ Tu-22M3 strategic bomber            ┆ 1            │\n",
      "│ Su-34M strike aircraft              ┆ 1            │\n",
      "│ Su-30SM multirole aircraft          ┆ 11           │\n",
      "│ ...                                 ┆ ...          │\n",
      "│ Su-25 close air support aircraft    ┆ 25           │\n",
      "│ Su-34 strike aircraft               ┆ 17           │\n",
      "│ Su-35S multirole aircraft           ┆ 1            │\n",
      "│ Su-24M/MR strike/tactical reconn... ┆ 8            │\n",
      "└─────────────────────────────────────┴──────────────┘\n"
     ]
    }
   ],
   "source": [
    "image_paths = [p for p in (root_path/\"Aircraft\").rglob(\"*\")]\n",
    "print(f\"There are {len(image_paths)} aircraft images\")\n",
    "aircraft_data = df.filter(df[\"equipment\"]==\"Aircraft\").groupby(\"model\").agg(pl.col(\"losses_total\").sum())\n",
    "print(aircraft_data)"
   ]
  },
  {
   "cell_type": "code",
   "execution_count": 4,
   "metadata": {},
   "outputs": [],
   "source": [
    "image_model_index = {\n",
    "    \"Su-24M MR strike tactical reconnaissance aircraft\": \"Su-24M/MR strike/tactical reconnaissance aircraft\",\n",
    "    \"Unknown Su-30 Su-34 Su-35\": \"Unknown Su-30/Su-34/Su-35\",\n",
    "\n",
    "    \"An-26 transport aircraft\": \"An-26 transport aircraft\",\n",
    "    \"Su-24MR tactical reconnaissance aircraft\": \"Su-24MR tactical reconnaissance aircraft\",\n",
    "    \"Su-25 close air support aircraft\": \"Su-25 close air support aircraft\",\n",
    "    \"Su-30SM multirole aircraft\": \"Su-30SM multirole aircraft\",\n",
    "    \"Su-34 strike aircraft\": \"Su-34 strike aircraft\",\n",
    "    \"Su-35S multirole aircraft\": \"Su-35S multirole aircraft\",\n",
    "    \"Tu-22M3 strategic bomber\": \"Tu-22M3 strategic bomber\",\n",
    "    \"Tu-95MS strategic bomber\": \"Tu-95MS strategic bomber\"\n",
    "}"
   ]
  },
  {
   "cell_type": "code",
   "execution_count": 5,
   "metadata": {},
   "outputs": [],
   "source": [
    "def image_path_to_model(p: Path):\n",
    "    return image_model_index[' '.join(p.stem.split(\"_\")[:-1])]"
   ]
  },
  {
   "cell_type": "code",
   "execution_count": 8,
   "metadata": {},
   "outputs": [
    {
     "name": "stdout",
     "output_type": "stream",
     "text": [
      "model not in images: Su-34M strike aircraft\n",
      "model not in images: MiG-31BM fighter aircraft\n"
     ]
    }
   ],
   "source": [
    "for p in image_paths:\n",
    "    model = image_path_to_model(p)\n",
    "    assert model in aircraft_data[\"model\"] , f\"path not in models: {p}\"\n",
    "\n",
    "for model in aircraft_data[\"model\"]:\n",
    "    if model not in image_model_index.values(): \n",
    "        print(f\"model not in images: {model}\")\n"
   ]
  }
 ],
 "metadata": {
  "kernelspec": {
   "display_name": "ukraine_2",
   "language": "python",
   "name": "python3"
  },
  "language_info": {
   "codemirror_mode": {
    "name": "ipython",
    "version": 3
   },
   "file_extension": ".py",
   "mimetype": "text/x-python",
   "name": "python",
   "nbconvert_exporter": "python",
   "pygments_lexer": "ipython3",
   "version": "3.9.16"
  },
  "orig_nbformat": 4
 },
 "nbformat": 4,
 "nbformat_minor": 2
}
