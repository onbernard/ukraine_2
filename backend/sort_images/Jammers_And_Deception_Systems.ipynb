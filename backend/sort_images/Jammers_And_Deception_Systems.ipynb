{
 "cells": [
  {
   "cell_type": "code",
   "execution_count": 3,
   "metadata": {},
   "outputs": [
    {
     "name": "stdout",
     "output_type": "stream",
     "text": [
      "There are 16 jammers images\n",
      "shape: (10, 2)\n",
      "┌──────────────────────────────────┬──────────────┐\n",
      "│ model                            ┆ losses_total │\n",
      "│ ---                              ┆ ---          │\n",
      "│ str                              ┆ i64          │\n",
      "╞══════════════════════════════════╪══════════════╡\n",
      "│ Torn(-MDM)                       ┆ 1            │\n",
      "│ 1RL257 Krasukha-4 (command post) ┆ 1            │\n",
      "│ R-330BMV Borisoglebsk-2B         ┆ 7            │\n",
      "│ R-330ZH Zhitel                   ┆ 4            │\n",
      "│ ...                              ┆ ...          │\n",
      "│ Leer-2 electronic warfare system ┆ 1            │\n",
      "│ Silok-01 counter-UAV system      ┆ 4            │\n",
      "│ RB-636AM2 Svet-KU EW system      ┆ 1            │\n",
      "│ 1L262E Rtut-BM                   ┆ 1            │\n",
      "└──────────────────────────────────┴──────────────┘\n"
     ]
    }
   ],
   "source": [
    "# russia/russia/Jammers_And_Deception_Systems\n",
    "import polars as pl\n",
    "from pathlib import Path\n",
    "root_path = Path(r\"/mnt/z/DATASETS/ukraine/russia/russia\")\n",
    "df = pl.read_csv(r\"/mnt/z/DATASETS/ukraine/losses_russia.csv\")\n",
    "\n",
    "image_paths = [p for p in (root_path/\"Jammers_And_Deception_Systems\").rglob(\"*\")]\n",
    "print(f\"There are {len(image_paths)} jammers images\")\n",
    "data = df.filter(df[\"equipment\"]==\"Jammers And Deception Systems\").groupby(\"model\").agg(pl.col(\"losses_total\").sum())\n",
    "print(data)"
   ]
  },
  {
   "cell_type": "code",
   "execution_count": 7,
   "metadata": {},
   "outputs": [],
   "source": [
    "image_model_index = {\n",
    "    \"1RL257 Krasukha-4  command post \": \"1RL257 Krasukha-4 (command post)\",\n",
    "    \"Torn -MDM \": \"Torn(-MDM)\",\n",
    "\n",
    "    \"1L262E Rtut-BM\": \"1L262E Rtut-BM\",\n",
    "    \"R-330BMV Borisoglebsk-2B\": \"R-330BMV Borisoglebsk-2B\",\n",
    "    \"R-330ZH Zhitel\": \"R-330ZH Zhitel\",\n",
    "    \"RB-636AM2 Svet-KU EW system\": \"RB-636AM2 Svet-KU EW system\",\n",
    "    \"Silok-01 counter-UAV system\": \"Silok-01 counter-UAV system\",\n",
    "    \"Unknown EW system\": \"Unknown EW system\",\n",
    "}\n",
    "names = [' '.join(p.stem.split(\"_\")[:-1]) for p in image_paths]\n",
    "for n in names:\n",
    "    if image_model_index[n] not in data[\"model\"]:\n",
    "        print(f'\"{n}\": \"{n}\",')\n",
    "# data[\"model\"].unique().to_list()"
   ]
  },
  {
   "cell_type": "code",
   "execution_count": 8,
   "metadata": {},
   "outputs": [
    {
     "name": "stdout",
     "output_type": "stream",
     "text": [
      "model not in images: RLK-MC-A (ROSC-1) counter-UAV system\n",
      "model not in images: Leer-2 electronic warfare system\n"
     ]
    }
   ],
   "source": [
    "def image_path_to_model(p: Path):\n",
    "    return image_model_index[' '.join(p.stem.split(\"_\")[:-1])]\n",
    "\n",
    "for p in image_paths:\n",
    "    model = image_path_to_model(p)\n",
    "    if model not in data[\"model\"]:\n",
    "        print(f\"path not in models: {p}\")\n",
    "\n",
    "for model in data[\"model\"]:\n",
    "    if model not in image_model_index.values(): \n",
    "        print(f\"model not in images: {model}\")"
   ]
  }
 ],
 "metadata": {
  "kernelspec": {
   "display_name": "ukraine_2",
   "language": "python",
   "name": "python3"
  },
  "language_info": {
   "codemirror_mode": {
    "name": "ipython",
    "version": 3
   },
   "file_extension": ".py",
   "mimetype": "text/x-python",
   "name": "python",
   "nbconvert_exporter": "python",
   "pygments_lexer": "ipython3",
   "version": "3.9.16"
  },
  "orig_nbformat": 4
 },
 "nbformat": 4,
 "nbformat_minor": 2
}
