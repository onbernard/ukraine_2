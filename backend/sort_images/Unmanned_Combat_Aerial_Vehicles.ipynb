{
 "cells": [
  {
   "cell_type": "code",
   "execution_count": 2,
   "metadata": {},
   "outputs": [
    {
     "name": "stdout",
     "output_type": "stream",
     "text": [
      "There are 3 ucav images\n",
      "shape: (5, 2)\n",
      "┌───────────────┬──────────────┐\n",
      "│ model         ┆ losses_total │\n",
      "│ ---           ┆ ---          │\n",
      "│ str           ┆ i64          │\n",
      "╞═══════════════╪══════════════╡\n",
      "│ Orion         ┆ 2            │\n",
      "│ Mohajer-6     ┆ 1            │\n",
      "│ Korsar        ┆ 1            │\n",
      "│ Forpost-RU    ┆ 1            │\n",
      "│ Orlan-10 UCAV ┆ 2            │\n",
      "└───────────────┴──────────────┘\n"
     ]
    }
   ],
   "source": [
    "# russia/russia/Unmanned_Combat_Aerial_Vehicles\n",
    "import polars as pl\n",
    "from pathlib import Path\n",
    "root_path = Path(r\"/mnt/z/DATASETS/ukraine/russia/russia\")\n",
    "df = pl.read_csv(r\"/mnt/z/DATASETS/ukraine/losses_russia.csv\")\n",
    "\n",
    "image_paths = [p for p in (root_path/\"Unmanned_Combat_Aerial_Vehicles\").rglob(\"*\")]\n",
    "print(f\"There are {len(image_paths)} ucav images\")\n",
    "data = df.filter(df[\"equipment\"]==\"Unmanned Combat Aerial Vehicles\").groupby(\"model\").agg(pl.col(\"losses_total\").sum())\n",
    "print(data)"
   ]
  },
  {
   "cell_type": "code",
   "execution_count": 4,
   "metadata": {},
   "outputs": [],
   "source": [
    "image_model_index = {\n",
    "    \"Korsar\": \"Korsar\",\n",
    "    \"Orion\": \"Orion\",\n",
    "    \"Orlan-10 UCAV\": \"Orlan-10 UCAV\",\n",
    "}\n",
    "names = [' '.join(p.stem.split(\"_\")[:-1]) for p in image_paths]\n",
    "for n in names:\n",
    "    if image_model_index[n] not in data[\"model\"]:\n",
    "        print(f'\"{n}\": \"{n}\",')\n",
    "# data[\"model\"].unique().to_list()"
   ]
  },
  {
   "cell_type": "code",
   "execution_count": 5,
   "metadata": {},
   "outputs": [
    {
     "name": "stdout",
     "output_type": "stream",
     "text": [
      "model not in images: Mohajer-6\n",
      "model not in images: Forpost-RU\n"
     ]
    }
   ],
   "source": [
    "def image_path_to_model(p: Path):\n",
    "    return image_model_index[' '.join(p.stem.split(\"_\")[:-1])]\n",
    "\n",
    "for p in image_paths:\n",
    "    model = image_path_to_model(p)\n",
    "    if model not in data[\"model\"]:\n",
    "        print(f\"path not in models: {p}\")\n",
    "\n",
    "for model in data[\"model\"]:\n",
    "    if model not in image_model_index.values(): \n",
    "        print(f\"model not in images: {model}\")"
   ]
  }
 ],
 "metadata": {
  "kernelspec": {
   "display_name": "ukraine_2",
   "language": "python",
   "name": "python3"
  },
  "language_info": {
   "codemirror_mode": {
    "name": "ipython",
    "version": 3
   },
   "file_extension": ".py",
   "mimetype": "text/x-python",
   "name": "python",
   "nbconvert_exporter": "python",
   "pygments_lexer": "ipython3",
   "version": "3.9.16"
  },
  "orig_nbformat": 4
 },
 "nbformat": 4,
 "nbformat_minor": 2
}
