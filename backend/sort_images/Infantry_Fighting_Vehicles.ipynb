{
 "cells": [
  {
   "cell_type": "code",
   "execution_count": 1,
   "metadata": {},
   "outputs": [
    {
     "name": "stdout",
     "output_type": "stream",
     "text": [
      "There are 1321 ifv images\n",
      "shape: (12, 2)\n",
      "┌──────────────────┬──────────────┐\n",
      "│ model            ┆ losses_total │\n",
      "│ ---              ┆ ---          │\n",
      "│ str              ┆ i64          │\n",
      "╞══════════════════╪══════════════╡\n",
      "│ BMP-2 675-sb3KDZ ┆ 3            │\n",
      "│ BMD-4M           ┆ 65           │\n",
      "│ BTR-82A(M)       ┆ 399          │\n",
      "│ BMP-3            ┆ 219          │\n",
      "│ ...              ┆ ...          │\n",
      "│ BMP-1(P)         ┆ 274          │\n",
      "│ BMD-2            ┆ 193          │\n",
      "│ BMP-2(K)         ┆ 708          │\n",
      "│ BMO-T            ┆ 3            │\n",
      "└──────────────────┴──────────────┘\n"
     ]
    }
   ],
   "source": [
    "# russia/russia/Infantry_Fighting_Vehicles\n",
    "import polars as pl\n",
    "from pathlib import Path\n",
    "root_path = Path(r\"/mnt/z/DATASETS/ukraine/russia/russia\")\n",
    "df = pl.read_csv(r\"/mnt/z/DATASETS/ukraine/losses_russia.csv\")\n",
    "\n",
    "image_paths = [p for p in (root_path/\"Infantry_Fighting_Vehicles\").rglob(\"*\")]\n",
    "print(f\"There are {len(image_paths)} ifv images\")\n",
    "data = df.filter(df[\"equipment\"]==\"Infantry Fighting Vehicles\").groupby(\"model\").agg(pl.col(\"losses_total\").sum())\n",
    "print(data)"
   ]
  },
  {
   "cell_type": "code",
   "execution_count": 8,
   "metadata": {},
   "outputs": [],
   "source": [
    "image_model_index = {\n",
    "    \"BMP-1 P \": \"BMP-1(P)\",\n",
    "    \"BMP-2 K \": \"BMP-2(K)\",\n",
    "    \"BTR-82A M \": \"BTR-82A(M)\",\n",
    "    \"Unknown BMP-1 2\": \"Unknown BMP-1/2\",\n",
    "\n",
    "    \"BMD-2\": \"BMD-2\",\n",
    "    \"BMD-4M\": \"BMD-4M\",\n",
    "    \"BMO-T\": \"BMO-T\",\n",
    "    \"BMP-1AM\": \"BMP-1AM\",\n",
    "    \"BMP-2M\": \"BMP-2M\",\n",
    "    \"BMP-2 675-sb3KDZ\": \"BMP-2 675-sb3KDZ\",\n",
    "    \"BMP-3\": \"BMP-3\",\n",
    "    \"MT-LBM 6MB\": \"MT-LBM 6MB\",\n",
    "}\n",
    "names = [' '.join(p.stem.split(\"_\")[:-1]) for p in image_paths]\n",
    "for n in names:\n",
    "    if image_model_index[n] not in data[\"model\"]:\n",
    "        print(f'\"{n}\": \"{n}\",')\n",
    "# data[\"model\"].unique().to_list()"
   ]
  },
  {
   "cell_type": "code",
   "execution_count": 9,
   "metadata": {},
   "outputs": [],
   "source": [
    "def image_path_to_model(p: Path):\n",
    "    return image_model_index[' '.join(p.stem.split(\"_\")[:-1])]\n",
    "\n",
    "for p in image_paths:\n",
    "    model = image_path_to_model(p)\n",
    "    if model not in data[\"model\"]:\n",
    "        print(f\"path not in models: {p}\")\n",
    "\n",
    "for model in data[\"model\"]:\n",
    "    if model not in image_model_index.values(): \n",
    "        print(f\"model not in images: {model}\")"
   ]
  }
 ],
 "metadata": {
  "kernelspec": {
   "display_name": "ukraine_2",
   "language": "python",
   "name": "python3"
  },
  "language_info": {
   "codemirror_mode": {
    "name": "ipython",
    "version": 3
   },
   "file_extension": ".py",
   "mimetype": "text/x-python",
   "name": "python",
   "nbconvert_exporter": "python",
   "pygments_lexer": "ipython3",
   "version": "3.9.16"
  },
  "orig_nbformat": 4
 },
 "nbformat": 4,
 "nbformat_minor": 2
}
