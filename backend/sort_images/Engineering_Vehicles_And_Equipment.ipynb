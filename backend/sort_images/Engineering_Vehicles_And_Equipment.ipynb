{
 "cells": [
  {
   "cell_type": "code",
   "execution_count": 2,
   "metadata": {},
   "outputs": [],
   "source": [
    "# russia/russia/Engineering_Vehicles_And_Equipment\n",
    "import polars as pl\n",
    "from pathlib import Path\n",
    "root_path = Path(r\"/mnt/z/DATASETS/ukraine/russia/russia\")\n",
    "df = pl.read_csv(r\"/mnt/z/DATASETS/ukraine/losses_russia.csv\")"
   ]
  },
  {
   "cell_type": "code",
   "execution_count": 3,
   "metadata": {},
   "outputs": [
    {
     "name": "stdout",
     "output_type": "stream",
     "text": [
      "There are 212 arty support images\n",
      "shape: (46, 2)\n",
      "┌─────────────────────────────────────┬──────────────┐\n",
      "│ model                               ┆ losses_total │\n",
      "│ ---                                 ┆ ---          │\n",
      "│ str                                 ┆ i64          │\n",
      "╞═════════════════════════════════════╪══════════════╡\n",
      "│ MTO-AT mobile workshop              ┆ 2            │\n",
      "│ TMM-3 bridge layer                  ┆ 25           │\n",
      "│ MTO-AG-3M                           ┆ 1            │\n",
      "│ KamAZ KMV-10V boom crane truck      ┆ 4            │\n",
      "│ ...                                 ┆ ...          │\n",
      "│ MTP-A2 recovery vehicle             ┆ 3            │\n",
      "│ UR-67 mine clearing charge on BT... ┆ 1            │\n",
      "│ Mobile generator for Podlet-K1 l... ┆ 1            │\n",
      "│ BREM-2 armoured recovery vehicle    ┆ 1            │\n",
      "└─────────────────────────────────────┴──────────────┘\n"
     ]
    }
   ],
   "source": [
    "image_paths = [p for p in (root_path/\"Engineering_Vehicles_And_Equipment\").rglob(\"*\")]\n",
    "print(f\"There are {len(image_paths)} arty support images\")\n",
    "data = df.filter(df[\"equipment\"]==\"Engineering Vehicles And Equipment\").groupby(\"model\").agg(pl.col(\"losses_total\").sum())\n",
    "print(data)"
   ]
  },
  {
   "cell_type": "code",
   "execution_count": 15,
   "metadata": {},
   "outputs": [],
   "source": [
    "image_model_index = {\n",
    "    \"BREM-Ch   BREM-4   armoured recovery vehicle\": \"BREM-Ch ''BREM-4'' armoured recovery vehicle\",\n",
    "    \"IMR-2 M  combat engineering vehicle\": \"IMR-2(M) combat engineering vehicle\",\n",
    "    \"MTP-A2 1 recovery vehicle\": \"MTP-A2.1 recovery vehicle\",\n",
    "    \"UR-77  Meteorit   mine clearing vehicle\": \"UR-77 'Meteorit'  mine clearing vehicle\",\n",
    "\n",
    "    \"ARS-14 decontamination and degassing vehicle\": \"ARS-14 decontamination and degassing vehicle\",\n",
    "    \"BAT-2 heavy engineering vehicle\": \"BAT-2 heavy engineering vehicle\",\n",
    "    \"BMK-460 towing and motor boat\": \"BMK-460 towing and motor boat\",\n",
    "    \"BMK-MO towing and motor boat\": \"BMK-MO towing and motor boat\",\n",
    "    \"BMK-MT towing and motor boat\": \"BMK-MT towing and motor boat\",\n",
    "    \"BREM-1 armoured recovery vehicle\": \"BREM-1 armoured recovery vehicle\",\n",
    "    \"BREM-2 armoured recovery vehicle\": \"BREM-2 armoured recovery vehicle\",\n",
    "    \"BREM-K armoured recovery vehicle\": \"BREM-K armoured recovery vehicle\",\n",
    "    \"BREM-D armoured recovery vehicle\": \"BREM-D armoured recovery vehicle\",\n",
    "    \"BTS-4A armoured recovery vehicle\": \"BTS-4A armoured recovery vehicle\",\n",
    "    \"ED2x30-T400-3RA mobile generator\": \"ED2x30-T400-3RA mobile generator\",\n",
    "    \"GMZ-3 minelayer\": \"GMZ-3 minelayer\",\n",
    "    \"IMR-3M combat engineering vehicle\": \"IMR-3M combat engineering vehicle\",\n",
    "    \"KamAZ-5350 with EOV-3523 excavator\": \"KamAZ-5350 with EOV-3523 excavator\",\n",
    "    \"KamAZ-5350 with KS-45719-7M crane\": \"KamAZ-5350 with KS-45719-7M crane\",\n",
    "    \"KamAZ KMV-10V boom crane truck\": \"KamAZ KMV-10V boom crane truck\",\n",
    "    \"MDK-3 trench-digging vehicle\": \"MDK-3 trench-digging vehicle\",\n",
    "    \"MTO-AG-3M\": \"MTO-AG-3M\",\n",
    "    \"MTO-AT mobile workshop\": \"MTO-AT mobile workshop\",\n",
    "    \"MTO-UB1 maintenance vehicle\": \"MTO-UB1 maintenance vehicle\",\n",
    "    \"MTP-A2 recovery vehicle\": \"MTP-A2 recovery vehicle\",\n",
    "    \"MTU-72 bridge layer\": \"MTU-72 bridge layer\",\n",
    "    \"PMP floating bridge\": \"PMP floating bridge\",\n",
    "    \"Pontoon bridge\": \"Pontoon bridge\",\n",
    "    \"PP-2005 floating bridge\": \"PP-2005 floating bridge\",\n",
    "    \"PTS-2  tracked amphibious transport\": \"PTS-2  tracked amphibious transport\",\n",
    "    \"PZM-2 trench-digging vehicle\": \"PZM-2 trench-digging vehicle\",\n",
    "    \"REM-KL recovery vehicle\": \"REM-KL recovery vehicle\",\n",
    "    \"RKhM-6 CBRN reconnaissance vehicle\": \"RKhM-6 CBRN reconnaissance vehicle\",\n",
    "    \"RKhM-6 Povozka\": \"RKhM-6 Povozka\",\n",
    "    \"TMM-3 bridge layer\": \"TMM-3 bridge layer\",\n",
    "    \"UR-67 mine clearing charge on BTR-D APC\": \"UR-67 mine clearing charge on BTR-D APC\",\n",
    "    \"Ural-4320 KET-L recovery vehicle\": \"Ural-4320 KET-L recovery vehicle\",\n",
    "    \"Ural-4320 KT-L recovery vehicle\": \"Ural-4320 KT-L recovery vehicle\",\n",
    "    \"Ural-4320 with KS-3574M3 or KS-3574M crane\": \"Ural-4320 with KS-3574M3 or KS-3574M crane\",\n",
    "}\n",
    "names = [' '.join(p.stem.split(\"_\")[:-1]) for p in image_paths]\n",
    "for n in names:\n",
    "    if image_model_index[n] not in data[\"model\"]:\n",
    "        print(f'\"{n}\": \"{n}\",')\n",
    "# data[\"model\"].unique().to_list()"
   ]
  },
  {
   "cell_type": "code",
   "execution_count": 16,
   "metadata": {},
   "outputs": [
    {
     "name": "stdout",
     "output_type": "stream",
     "text": [
      "model not in images: Uran-6 mine-clearing robotic system\n",
      "model not in images: KamAZ-63501 with KS-55729-7M 32-ton crane\n",
      "model not in images: BMK-130M/BMK-150 towing and motor boat\n",
      "model not in images: KrAZ-255B with excavator\n",
      "model not in images: APA-80 engine starting vehicle\n",
      "model not in images: Ural-4320 with excavator\n",
      "model not in images: Mobile generator for Podlet-K1 low-altitude S-band surveillance radar\n"
     ]
    }
   ],
   "source": [
    "def image_path_to_model(p: Path):\n",
    "    return image_model_index[' '.join(p.stem.split(\"_\")[:-1])]\n",
    "\n",
    "for p in image_paths:\n",
    "    model = image_path_to_model(p)\n",
    "    assert model in data[\"model\"] , f\"path not in models: {p}\"\n",
    "\n",
    "for model in data[\"model\"]:\n",
    "    if model not in image_model_index.values(): \n",
    "        print(f\"model not in images: {model}\")"
   ]
  }
 ],
 "metadata": {
  "kernelspec": {
   "display_name": "ukraine_2",
   "language": "python",
   "name": "python3"
  },
  "language_info": {
   "codemirror_mode": {
    "name": "ipython",
    "version": 3
   },
   "file_extension": ".py",
   "mimetype": "text/x-python",
   "name": "python",
   "nbconvert_exporter": "python",
   "pygments_lexer": "ipython3",
   "version": "3.9.16"
  },
  "orig_nbformat": 4
 },
 "nbformat": 4,
 "nbformat_minor": 2
}
