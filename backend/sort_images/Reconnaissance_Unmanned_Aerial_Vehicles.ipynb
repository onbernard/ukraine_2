{
 "cells": [
  {
   "cell_type": "code",
   "execution_count": 1,
   "metadata": {},
   "outputs": [
    {
     "name": "stdout",
     "output_type": "stream",
     "text": [
      "There are 135 ruav images\n",
      "shape: (18, 2)\n",
      "┌───────────────────────────────┬──────────────┐\n",
      "│ model                         ┆ losses_total │\n",
      "│ ---                           ┆ ---          │\n",
      "│ str                           ┆ i64          │\n",
      "╞═══════════════════════════════╪══════════════╡\n",
      "│ 'Orlan-20' ''Kartograf''      ┆ 9            │\n",
      "│ ZALA 421-16Е2                 ┆ 6            │\n",
      "│ Forpost                       ┆ 3            │\n",
      "│ Orlan-10 'Moskit' jamming UAV ┆ 1            │\n",
      "│ ...                           ┆ ...          │\n",
      "│ Unknown reconnaissance UAV    ┆ 3            │\n",
      "│ Supercam S350                 ┆ 2            │\n",
      "│ Orlan-10 jamming UAV          ┆ 3            │\n",
      "│ Lastochka-M                   ┆ 1            │\n",
      "└───────────────────────────────┴──────────────┘\n"
     ]
    }
   ],
   "source": [
    "# russia/russia/Reconnaissance_Unmanned_Aerial_Vehicles\n",
    "import polars as pl\n",
    "from pathlib import Path\n",
    "root_path = Path(r\"/mnt/z/DATASETS/ukraine/russia/russia\")\n",
    "df = pl.read_csv(r\"/mnt/z/DATASETS/ukraine/losses_russia.csv\")\n",
    "\n",
    "image_paths = [p for p in (root_path/\"Reconnaissance_Unmanned_Aerial_Vehicles\").rglob(\"*\")]\n",
    "print(f\"There are {len(image_paths)} ruav images\")\n",
    "data = df.filter(df[\"equipment\"]==\"Reconnaissance Unmanned Aerial Vehicles\").groupby(\"model\").agg(pl.col(\"losses_total\").sum())\n",
    "print(data)"
   ]
  },
  {
   "cell_type": "code",
   "execution_count": 9,
   "metadata": {},
   "outputs": [],
   "source": [
    "image_model_index = {\n",
    "    \"Orlan-10  Moskit  jamming UAV\": \"Orlan-10 'Moskit' jamming UAV\",\n",
    "    \"ZALA 421-16 2\": \"ZALA 421-16Е2\",\n",
    "    \" Orlan-20    Kartograf  \": \"'Orlan-20' ''Kartograf''\",\n",
    "\n",
    "    \"Eleron-3\": \"Eleron-3\",\n",
    "    \"Forpost\": \"Forpost\",\n",
    "    \"Forpost\": \"Forpost\",\n",
    "    \"Granat-4\": \"Granat-4\",\n",
    "    \"Grifon-12\": \"Grifon-12\",\n",
    "    \"Lastochka-M\": \"Lastochka-M\",\n",
    "    \"Merlin-VR\": \"Merlin-VR\",\n",
    "    \"Orlan-10 jamming UAV\": \"Orlan-10 jamming UAV\",\n",
    "    \"Orlan-10\": \"Orlan-10\",\n",
    "    \"Orlan-30\": \"Orlan-30\",\n",
    "    \"Supercam S150\": \"Supercam S150\",\n",
    "    \"Supercam S350\": \"Supercam S350\",\n",
    "    \"Takhion\": \"Takhion\",\n",
    "}\n",
    "names = [' '.join(p.stem.split(\"_\")[:-1]) for p in image_paths]\n",
    "for n in names:\n",
    "    if image_model_index[n] not in data[\"model\"]:\n",
    "        print(f'\"{n}\": \"{n}\",')\n",
    "# data[\"model\"].unique().to_list()"
   ]
  },
  {
   "cell_type": "code",
   "execution_count": 10,
   "metadata": {},
   "outputs": [
    {
     "name": "stdout",
     "output_type": "stream",
     "text": [
      "model not in images: ZALA 421-16ЕM\n",
      "model not in images: Eleron T28ME\n",
      "model not in images: Unknown reconnaissance UAV\n"
     ]
    }
   ],
   "source": [
    "def image_path_to_model(p: Path):\n",
    "    return image_model_index[' '.join(p.stem.split(\"_\")[:-1])]\n",
    "\n",
    "for p in image_paths:\n",
    "    model = image_path_to_model(p)\n",
    "    if model not in data[\"model\"]:\n",
    "        print(f\"path not in models: {p}\")\n",
    "\n",
    "for model in data[\"model\"]:\n",
    "    if model not in image_model_index.values(): \n",
    "        print(f\"model not in images: {model}\")"
   ]
  }
 ],
 "metadata": {
  "kernelspec": {
   "display_name": "ukraine_2",
   "language": "python",
   "name": "python3"
  },
  "language_info": {
   "codemirror_mode": {
    "name": "ipython",
    "version": 3
   },
   "file_extension": ".py",
   "mimetype": "text/x-python",
   "name": "python",
   "nbconvert_exporter": "python",
   "pygments_lexer": "ipython3",
   "version": "3.9.16"
  },
  "orig_nbformat": 4
 },
 "nbformat": 4,
 "nbformat_minor": 2
}
