{
 "cells": [
  {
   "cell_type": "code",
   "execution_count": 1,
   "metadata": {},
   "outputs": [
    {
     "name": "stdout",
     "output_type": "stream",
     "text": [
      "There are 69 sam images\n",
      "shape: (14, 2)\n",
      "┌─────────────────────────────────────┬──────────────┐\n",
      "│ model                               ┆ losses_total │\n",
      "│ ---                                 ┆ ---          │\n",
      "│ str                                 ┆ i64          │\n",
      "╞═════════════════════════════════════╪══════════════╡\n",
      "│ 9K35 Strela-10                      ┆ 14           │\n",
      "│ 9A316 TEL (for Buk-M2)              ┆ 3            │\n",
      "│ 5P85SD/SM (launcher for S-300 PM... ┆ 2            │\n",
      "│ 9K331MDT Tor-M2DT                   ┆ 2            │\n",
      "│ ...                                 ┆ ...          │\n",
      "│ Unknown Buk SAM system              ┆ 4            │\n",
      "│ 9A330 Tor TLAR (for 9K330 Tor)      ┆ 8            │\n",
      "│ 9A331 TLAR (for 9K331 Tor-M1)       ┆ 9            │\n",
      "│ 9K33 Osa                            ┆ 9            │\n",
      "└─────────────────────────────────────┴──────────────┘\n"
     ]
    }
   ],
   "source": [
    "# russia/russia/Surface-To-Air_Missile_Systems\n",
    "import polars as pl\n",
    "from pathlib import Path\n",
    "root_path = Path(r\"/mnt/z/DATASETS/ukraine/russia/russia\")\n",
    "df = pl.read_csv(r\"/mnt/z/DATASETS/ukraine/losses_russia.csv\")\n",
    "\n",
    "image_paths = [p for p in (root_path/\"Surface-To-Air_Missile_Systems\").rglob(\"*\")]\n",
    "print(f\"There are {len(image_paths)} sam images\")\n",
    "data = df.filter(df[\"equipment\"]==\"Surface-To-Air Missile Systems\").groupby(\"model\").agg(pl.col(\"losses_total\").sum())\n",
    "print(data)"
   ]
  },
  {
   "cell_type": "code",
   "execution_count": 10,
   "metadata": {},
   "outputs": [],
   "source": [
    "image_model_index = {\n",
    "    \"9A310M1-2 TELAR  for Buk-M1-2 \": \"9A310M1-2 TELAR (for Buk-M1-2)\",\n",
    "    \"9A316 TEL  for Buk-M2 \": \"9A316 TEL (for Buk-M2)\",\n",
    "    \"9A317 TELAR  for Buk-M2 \": \"9A317 TELAR (for Buk-M2)\",\n",
    "    \"9A330 Tor TLAR  for 9K330 Tor \": \"9A330 Tor TLAR (for 9K330 Tor)\",\n",
    "    \"9A331M TLAR  for 9K332 Tor-M2 \": \"9A331M TLAR (for 9K332 Tor-M2)\",\n",
    "    \"9A331 TLAR  for 9K331 Tor-M1 \": \"9A331 TLAR (for 9K331 Tor-M1)\",\n",
    "    \"9A39M1-2 TEL  for Buk-M1-2 \": \"9A39M1-2 TEL (for Buk-M1-2)\",\n",
    "\n",
    "    \"9K33 Osa\": \"9K33 Osa\",\n",
    "    \"9K35 Strela-10\": \"9K35 Strela-10\",\n",
    "    \"Pantsir-S1\": \"Pantsir-S1\",\n",
    "    \"Unknown Buk SAM system\": \"Unknown Buk SAM system\",\n",
    "}\n",
    "names = [' '.join(p.stem.split(\"_\")[:-1]) for p in image_paths]\n",
    "for n in names:\n",
    "    if image_model_index[n] not in data[\"model\"]:\n",
    "        print(f'\"{n}\": \"{n}\",')\n",
    "# data[\"model\"].unique().to_list()"
   ]
  },
  {
   "cell_type": "code",
   "execution_count": 11,
   "metadata": {},
   "outputs": [
    {
     "name": "stdout",
     "output_type": "stream",
     "text": [
      "model not in images: 5P85SD/SM (launcher for S-300 PMU(-1))\n",
      "model not in images: 9K331MDT Tor-M2DT\n",
      "model not in images: 5P85SM2-01 (launcher for S-400)\n"
     ]
    }
   ],
   "source": [
    "def image_path_to_model(p: Path):\n",
    "    return image_model_index[' '.join(p.stem.split(\"_\")[:-1])]\n",
    "\n",
    "for p in image_paths:\n",
    "    model = image_path_to_model(p)\n",
    "    if model not in data[\"model\"]:\n",
    "        print(f\"path not in models: {p}\")\n",
    "\n",
    "for model in data[\"model\"]:\n",
    "    if model not in image_model_index.values(): \n",
    "        print(f\"model not in images: {model}\")"
   ]
  }
 ],
 "metadata": {
  "kernelspec": {
   "display_name": "ukraine_2",
   "language": "python",
   "name": "python3"
  },
  "language_info": {
   "codemirror_mode": {
    "name": "ipython",
    "version": 3
   },
   "file_extension": ".py",
   "mimetype": "text/x-python",
   "name": "python",
   "nbconvert_exporter": "python",
   "pygments_lexer": "ipython3",
   "version": "3.9.16"
  },
  "orig_nbformat": 4
 },
 "nbformat": 4,
 "nbformat_minor": 2
}
